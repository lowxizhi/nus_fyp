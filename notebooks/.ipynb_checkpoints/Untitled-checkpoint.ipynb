{
 "cells": [
  {
   "cell_type": "code",
   "execution_count": null,
   "id": "d2edec74",
   "metadata": {},
   "outputs": [],
   "source": [
    "from __future__ import division\n",
    "import numpy as np\n",
    "import numpy.linalg as la\n",
    "import sys, time, os, datetime\n",
    "import matplotlib.pyplot as plt\n",
    "from mpl_toolkits.mplot3d import Axes3D\n",
    "from sklearn import decomposition, manifold\n",
    "import scipy.io\n",
    "import pandas as pd\n",
    "import argparse\n",
    "from numpy import newaxis\n",
    "import random\n",
    "from matplotlib import cm\n",
    "\n",
    "def plot_isomap(data_plot, color, annotate=False):\n",
    "        fig = plt.figure(figsize=(16,16),dpi=200)\n",
    "        ax = fig.add_subplot(111, projection='3d')\n",
    "\n",
    "        if annotate:\n",
    "            ax.scatter(data_plot[:,0], data_plot[:,1], data_plot[:,2], \n",
    "                s=5, alpha=1, edgecolor='face',c=color)\n",
    "            label = 0\n",
    "            for xyz in zip(data_plot[:,0], data_plot[:,1], data_plot[:,2]):\n",
    "                x, y, z = xyz\n",
    "                ax.text(x, y, z, '%s' % (label), size=5, zorder=1, color='k')\n",
    "                label += 1\n",
    "        else:\n",
    "            ax.scatter(data_plot[:,0], data_plot[:,1], data_plot[:,2], \n",
    "                s=20, alpha=1, edgecolor='face',c=color)\n",
    "        ax.grid(False)\n",
    "        ax.xaxis.pane.fill = False\n",
    "        ax.yaxis.pane.fill = False\n",
    "        ax.zaxis.pane.fill = False\n",
    "        ax.xaxis.pane.set_edgecolor('w')\n",
    "        ax.yaxis.pane.set_edgecolor('w')\n",
    "        ax.zaxis.pane.set_edgecolor('w')\n",
    "        return fig, ax\n",
    "    \n",
    "def set_axes_equal(ax):\n",
    "    '''Make axes of 3D plot have equal scale so that spheres appear as spheres,\n",
    "    cubes as cubes, etc..  This is one possible solution to Matplotlib's\n",
    "    ax.set_aspect('equal') and ax.axis('equal') not working for 3D.\n",
    "\n",
    "    Input\n",
    "      ax: a matplotlib axis, e.g., as output from plt.gca().\n",
    "    '''\n",
    "\n",
    "    x_limits = ax.get_xlim3d()\n",
    "    y_limits = ax.get_ylim3d()\n",
    "    z_limits = ax.get_zlim3d()\n",
    "\n",
    "    x_range = abs(x_limits[1] - x_limits[0])\n",
    "    x_middle = np.mean(x_limits)\n",
    "    y_range = abs(y_limits[1] - y_limits[0])\n",
    "    y_middle = np.mean(y_limits)\n",
    "    z_range = abs(z_limits[1] - z_limits[0])\n",
    "    z_middle = np.mean(z_limits)\n",
    "\n",
    "    # The plot bounding box is a sphere in the sense of the infinity\n",
    "    # norm, hence I call half the max range the plot radius.\n",
    "    plot_radius = 0.5*max([x_range, y_range, z_range])\n",
    "\n",
    "    ax.set_xlim3d([x_middle - plot_radius, x_middle + plot_radius])\n",
    "    ax.set_ylim3d([y_middle - plot_radius, y_middle + plot_radius])"
   ]
  },
  {
   "cell_type": "code",
   "execution_count": null,
   "id": "3d1e13ce",
   "metadata": {},
   "outputs": [],
   "source": [
    "n_eachring = 32\n",
    "pref  = np.arange(0,2*np.pi,2*np.pi/n_eachring)\n",
    "\n",
    "def add_x_loc(x_loc):\n",
    "    \"\"\"Input activity given location.\"\"\"\n",
    "    dist = get_dist(x_loc-pref)  # periodic boundary\n",
    "    dist /= np.pi/8\n",
    "    return 0.8*np.exp(-dist**2/2)\n",
    "\n",
    "def get_dist(original_dist):\n",
    "    '''Get the distance in periodic boundary conditions'''\n",
    "    return np.minimum(abs(original_dist),2*np.pi-abs(original_dist))"
   ]
  },
  {
   "cell_type": "code",
   "execution_count": null,
   "id": "38c1195a",
   "metadata": {},
   "outputs": [],
   "source": [
    "def plot_2d_isomap(data_plot, color, annotate=False):\n",
    "        fig = plt.figure(figsize=(16,16),dpi=200)\n",
    "        ax = fig.add_subplot(111)\n",
    "        if annotate:\n",
    "            ax.scatter(data_plot[:,0], data_plot[:,1], s=5, alpha=1, edgecolor='face',c=color)\n",
    "            label = 0\n",
    "            for xy in zip(data_plot[:,0], data_plot[:,1]):\n",
    "                x, y = xy\n",
    "                ax.text(x, y, '%s' % (label), size=15, zorder=1, color='k')\n",
    "                label += 1\n",
    "        else:\n",
    "            ax.scatter(data_plot[:,0], data_plot[:,1], s=20, alpha=1, edgecolor='face',c=color)\n",
    "\n",
    "        ax.grid(False)\n",
    "        return fig, ax"
   ]
  },
  {
   "cell_type": "code",
   "execution_count": null,
   "id": "2d1a2b90",
   "metadata": {},
   "outputs": [],
   "source": [
    "import numpy as np\n",
    "n_loc = 128\n",
    "n_stim_loc1, repeat = stim_loc_shape = n_loc, 1\n",
    "stim_loc_size = np.prod(stim_loc_shape)\n",
    "ind_stim_loc1, ind_repeat = np.unravel_index(range(stim_loc_size),stim_loc_shape)\n",
    "stim1_locs = 2*np.pi*ind_stim_loc1/n_stim_loc1\n",
    "locs = stim1_locs\n",
    "x_loc = []\n",
    "for i in range(stim_loc_size):\n",
    "    x_loc.append(add_x_loc(locs[i]))\n",
    "x_loc = np.array(x_loc)"
   ]
  },
  {
   "cell_type": "code",
   "execution_count": null,
   "id": "4e511c8d",
   "metadata": {
    "scrolled": true
   },
   "outputs": [],
   "source": [
    "from sklearn import decomposition, manifold\n",
    "n_neighbors = 15\n",
    "target_dim = 3\n",
    "data_to_use = x_loc.copy()\n",
    "iso_instance = manifold.Isomap(n_neighbors = n_neighbors, n_components = target_dim)\n",
    "proj = iso_instance.fit_transform(data_to_use)\n",
    "\n",
    "palette1 = cm.get_cmap('autumn',n_loc+15)\n",
    "palette1 = [palette1(i)[:3] for i in range(n_loc)]\n",
    "color1=np.array(palette1)[ind_stim_loc1]\n",
    "\n",
    "fig,ax = plot_2d_isomap(data_plot=proj, color=color1)\n",
    "fig.tight_layout()\n",
    "fig.savefig('ring_isomap.png')"
   ]
  },
  {
   "cell_type": "code",
   "execution_count": null,
   "id": "7b0251c9",
   "metadata": {},
   "outputs": [],
   "source": []
  },
  {
   "cell_type": "code",
   "execution_count": null,
   "id": "51d119a7",
   "metadata": {},
   "outputs": [],
   "source": [
    "import numpy as np\n",
    "n_loc = 128\n",
    "n_stim_loc1, n_stim_loc2, repeat = stim_loc_shape = n_loc, n_loc, 1\n",
    "stim_loc_size = np.prod(stim_loc_shape)\n",
    "ind_stim_loc1, ind_stim_loc2, ind_repeat = np.unravel_index(range(stim_loc_size),stim_loc_shape)\n",
    "stim1_locs = 2*np.pi*ind_stim_loc1/n_stim_loc1\n",
    "stim2_locs = 2*np.pi*ind_stim_loc2/n_stim_loc2\n",
    "x_loc = []\n",
    "for i in range(stim_loc_size):\n",
    "    x_loc.append(np.append(add_x_loc(stim1_locs[i]),add_x_loc(stim2_locs[i])))\n",
    "x_loc = np.array(x_loc)"
   ]
  },
  {
   "cell_type": "code",
   "execution_count": null,
   "id": "2da54947",
   "metadata": {},
   "outputs": [],
   "source": [
    "ind_stim_loc1"
   ]
  },
  {
   "cell_type": "code",
   "execution_count": null,
   "id": "feed6904",
   "metadata": {},
   "outputs": [],
   "source": [
    "ind_stim_loc1==0"
   ]
  },
  {
   "cell_type": "code",
   "execution_count": null,
   "id": "c0faa2d1",
   "metadata": {},
   "outputs": [],
   "source": [
    "ind_stim_loc2"
   ]
  },
  {
   "cell_type": "code",
   "execution_count": null,
   "id": "99a113a9",
   "metadata": {},
   "outputs": [],
   "source": [
    "ind_stim_loc2==0"
   ]
  },
  {
   "cell_type": "code",
   "execution_count": null,
   "id": "970ae3f7",
   "metadata": {},
   "outputs": [],
   "source": [
    "x_loc.shape"
   ]
  },
  {
   "cell_type": "code",
   "execution_count": null,
   "id": "acb76546",
   "metadata": {},
   "outputs": [],
   "source": [
    "from sklearn import decomposition, manifold\n",
    "n_neighbors = 15\n",
    "target_dim = 3\n",
    "data_to_use = x_loc.copy()\n",
    "iso_instance = manifold.Isomap(n_neighbors = n_neighbors, n_components = target_dim)\n",
    "proj = iso_instance.fit_transform(data_to_use)"
   ]
  },
  {
   "cell_type": "code",
   "execution_count": null,
   "id": "3752aca0",
   "metadata": {},
   "outputs": [],
   "source": [
    "def plot_isomap(data_plot, color, annotate=False):\n",
    "        fig = plt.figure(figsize=(16,16),dpi=200)\n",
    "        ax = fig.add_subplot(111, projection='3d')\n",
    "\n",
    "        if annotate:\n",
    "            ax.scatter(data_plot[:,0], data_plot[:,1], data_plot[:,2], \n",
    "                s=5, alpha=1, edgecolor='face',c=color)\n",
    "            label = 0\n",
    "            for xyz in zip(data_plot[:,0], data_plot[:,1], data_plot[:,2]):\n",
    "                x, y, z = xyz\n",
    "                ax.text(x, y, z, '%s' % (label), size=5, zorder=1, color='k')\n",
    "                label += 1\n",
    "        else:\n",
    "            ax.scatter(data_plot[:,0], data_plot[:,1], data_plot[:,2], \n",
    "                s=1, alpha=1, edgecolor='face',c=color)\n",
    "        ax.grid(False)\n",
    "        ax.xaxis.pane.fill = False\n",
    "        ax.yaxis.pane.fill = False\n",
    "        ax.zaxis.pane.fill = False\n",
    "        ax.xaxis.pane.set_edgecolor('w')\n",
    "        ax.yaxis.pane.set_edgecolor('w')\n",
    "        ax.zaxis.pane.set_edgecolor('w')\n",
    "        return fig, ax"
   ]
  },
  {
   "cell_type": "code",
   "execution_count": null,
   "id": "ac26fb49",
   "metadata": {
    "scrolled": true
   },
   "outputs": [],
   "source": [
    "palette1 = cm.get_cmap('autumn',n_loc+15)\n",
    "palette1 = [palette1(i)[:3] for i in range(n_loc)]\n",
    "color1=np.array(palette1)[ind_stim_loc1]\n",
    "\n",
    "palette2 = cm.get_cmap('summer',n_loc+15)\n",
    "palette2 = [palette2(i)[:3] for i in range(n_loc)]\n",
    "color2=np.array(palette2)[ind_stim_loc2]\n",
    "\n",
    "fig,ax = plot_isomap(data_plot=proj, color=color1)\n",
    "fig.tight_layout()\n",
    "fig.savefig('torus_isomap_target.png')"
   ]
  },
  {
   "cell_type": "code",
   "execution_count": null,
   "id": "661ac835",
   "metadata": {},
   "outputs": [],
   "source": [
    "fig,ax = plot_isomap(data_plot=proj, color=color1)\n",
    "ax.set_zlim3d([-20,20])\n",
    "fig.tight_layout()\n",
    "fig.savefig('torus_isomap_target_adjusted.png')"
   ]
  },
  {
   "cell_type": "code",
   "execution_count": null,
   "id": "ed47bcdd",
   "metadata": {
    "scrolled": false
   },
   "outputs": [],
   "source": [
    "fig,ax = plot_isomap(data_plot=proj, color=color2)\n",
    "fig.tight_layout()\n",
    "fig.savefig('torus_isomap_distractor.png')"
   ]
  },
  {
   "cell_type": "code",
   "execution_count": null,
   "id": "659dc225",
   "metadata": {},
   "outputs": [],
   "source": [
    "fig,ax = plot_isomap(data_plot=proj, color=color2)\n",
    "ax.set_zlim3d([-20,20])\n",
    "fig.tight_layout()\n",
    "fig.savefig('torus_isomap_distractor_adjusted.png')"
   ]
  },
  {
   "cell_type": "code",
   "execution_count": null,
   "id": "a766d8f2",
   "metadata": {},
   "outputs": [],
   "source": [
    "target_dim = 2\n",
    "num = 0\n",
    "indices = ind_stim_loc1==num\n",
    "label_plot = ind_stim_loc2[indices]\n",
    "data_to_use = x_loc[indices,:]\n",
    "\n",
    "palette2 = cm.get_cmap('summer',n_loc+15)\n",
    "palette2 = [palette2(i)[:3] for i in range(n_loc)]\n",
    "color2=np.array(palette2)[label_plot]\n",
    "\n",
    "iso_instance = manifold.Isomap(n_neighbors = n_neighbors, n_components = target_dim)\n",
    "proj = iso_instance.fit_transform(data_to_use)\n",
    "\n",
    "fig,ax = plot_2d_isomap(data_plot=proj, color=color2)\n",
    "fig.tight_layout()\n",
    "fig.savefig('distractor_slice_isomap_2d.png')"
   ]
  },
  {
   "cell_type": "code",
   "execution_count": null,
   "id": "288d5f91",
   "metadata": {},
   "outputs": [],
   "source": [
    "target_dim = 2\n",
    "num = 0\n",
    "indices = ind_stim_loc2==num\n",
    "label_plot = ind_stim_loc1[indices]\n",
    "data_to_use = x_loc[indices,:]\n",
    "\n",
    "palette1 = cm.get_cmap('autumn',n_loc+15)\n",
    "palette1 = [palette1(i)[:3] for i in range(n_loc)]\n",
    "color1=np.array(palette1)[label_plot]\n",
    "\n",
    "iso_instance = manifold.Isomap(n_neighbors = n_neighbors, n_components = target_dim)\n",
    "proj = iso_instance.fit_transform(data_to_use)\n",
    "\n",
    "fig,ax = plot_2d_isomap(data_plot=proj, color=color1)\n",
    "fig.tight_layout()\n",
    "fig.savefig('target_slice_isomap_2d.png')"
   ]
  },
  {
   "cell_type": "markdown",
   "id": "73353300",
   "metadata": {},
   "source": [
    "### n_rec = 512"
   ]
  },
  {
   "cell_type": "code",
   "execution_count": null,
   "id": "ff09d175",
   "metadata": {},
   "outputs": [],
   "source": [
    "W = np.random.randn(512, 64) * 0.01\n",
    "Z = []\n",
    "for i in range(len(x_loc)):\n",
    "    Z.append(np.dot(W, x_loc[i]))\n",
    "Z = np.array(Z)"
   ]
  },
  {
   "cell_type": "code",
   "execution_count": null,
   "id": "e713d141",
   "metadata": {},
   "outputs": [],
   "source": [
    "from sklearn import decomposition, manifold\n",
    "n_neighbors = 15\n",
    "target_dim = 3\n",
    "data_to_use = Z.copy()\n",
    "iso_instance = manifold.Isomap(n_neighbors = n_neighbors, n_components = target_dim)\n",
    "proj = iso_instance.fit_transform(data_to_use)"
   ]
  },
  {
   "cell_type": "code",
   "execution_count": null,
   "id": "e522b821",
   "metadata": {},
   "outputs": [],
   "source": [
    "palette1 = cm.get_cmap('autumn',n_loc+15)\n",
    "palette1 = [palette1(i)[:3] for i in range(n_loc)]\n",
    "color1=np.array(palette1)[ind_stim_loc1]\n",
    "\n",
    "palette2 = cm.get_cmap('summer',n_loc+15)\n",
    "palette2 = [palette2(i)[:3] for i in range(n_loc)]\n",
    "color2=np.array(palette2)[ind_stim_loc2]\n",
    "\n",
    "fig,ax = plot_isomap(data_plot=proj, color=color1)\n",
    "# ax.set_zlim3d([-1,1])\n",
    "fig.tight_layout()\n",
    "fig.savefig('torus_isomap_target_hidden_layer_512.png')"
   ]
  },
  {
   "cell_type": "code",
   "execution_count": null,
   "id": "3450db5c",
   "metadata": {
    "scrolled": true
   },
   "outputs": [],
   "source": [
    "fig,ax = plot_isomap(data_plot=proj, color=color2)\n",
    "# ax.set_zlim3d([-1,1])\n",
    "fig.tight_layout()\n",
    "fig.savefig('torus_isomap_distractor_hidden_layer_512.png')"
   ]
  },
  {
   "cell_type": "code",
   "execution_count": null,
   "id": "17807b45",
   "metadata": {},
   "outputs": [],
   "source": [
    "for neuron in [0,128,256,384]:\n",
    "    df = pd.DataFrame({'first_stim':ind_stim_loc1,'second_stim':ind_stim_loc2,'activity':Z[:,neuron]})\n",
    "    x = np.arange(0, 128, 1)\n",
    "    x = 360*x/128\n",
    "    y = df.groupby('first_stim')['activity'].mean()\n",
    "    plt.scatter(x,y)\n",
    "\n",
    "    plt.xlabel('Stim 1 direction (deg)')\n",
    "    plt.ylabel('Activity')\n",
    "    plt.title('Activity of %dth neuron'%neuron)\n",
    "    plt.show()\n",
    "    plt.close()"
   ]
  },
  {
   "cell_type": "code",
   "execution_count": null,
   "id": "22f9e3ab",
   "metadata": {
    "scrolled": true
   },
   "outputs": [],
   "source": [
    "for neuron in [0,128,256,384]:\n",
    "    df = pd.DataFrame({'first_stim':ind_stim_loc1,'second_stim':ind_stim_loc2,'activity':Z[:,neuron]})\n",
    "    x = np.arange(0, 128, 1)\n",
    "    x = 360*x/128\n",
    "    y = df.groupby('second_stim')['activity'].mean()\n",
    "    plt.scatter(x,y,color='red')\n",
    "\n",
    "    plt.xlabel('Stim 2 direction (deg)')\n",
    "    plt.ylabel('Activity')\n",
    "    plt.title('Activity of %dth neuron'%neuron)\n",
    "    plt.show()\n",
    "    plt.close()"
   ]
  },
  {
   "cell_type": "markdown",
   "id": "0d9a9b40",
   "metadata": {},
   "source": [
    "#### Conclusion: no linear mixed selectivity"
   ]
  },
  {
   "cell_type": "markdown",
   "id": "cc91adf8",
   "metadata": {},
   "source": [
    "#### non linear activation"
   ]
  },
  {
   "cell_type": "code",
   "execution_count": null,
   "id": "906b4bd3",
   "metadata": {},
   "outputs": [],
   "source": [
    "import tensorflow as tf\n",
    "Z = tf.math.softplus(Z).numpy()\n",
    "# import math\n",
    "# math.log(1+np.exp(Z))"
   ]
  },
  {
   "cell_type": "code",
   "execution_count": null,
   "id": "8ab8ecae",
   "metadata": {},
   "outputs": [],
   "source": [
    "from sklearn import decomposition, manifold\n",
    "n_neighbors = 15\n",
    "target_dim = 3\n",
    "data_to_use = Z.copy()\n",
    "iso_instance = manifold.Isomap(n_neighbors = n_neighbors, n_components = target_dim)\n",
    "proj = iso_instance.fit_transform(data_to_use)"
   ]
  },
  {
   "cell_type": "code",
   "execution_count": null,
   "id": "c1b8f8b5",
   "metadata": {},
   "outputs": [],
   "source": [
    "palette1 = cm.get_cmap('autumn',n_loc+15)\n",
    "palette1 = [palette1(i)[:3] for i in range(n_loc)]\n",
    "color1=np.array(palette1)[ind_stim_loc1]\n",
    "\n",
    "palette2 = cm.get_cmap('summer',n_loc+15)\n",
    "palette2 = [palette2(i)[:3] for i in range(n_loc)]\n",
    "color2=np.array(palette2)[ind_stim_loc2]\n",
    "\n",
    "fig,ax = plot_isomap(data_plot=proj, color=color1)\n",
    "# ax.set_zlim3d([-1,1])\n",
    "fig.tight_layout()\n",
    "fig.savefig('torus_isomap_target_hidden_layer_512_softplus.png')"
   ]
  },
  {
   "cell_type": "code",
   "execution_count": null,
   "id": "23fbd0f9",
   "metadata": {
    "scrolled": true
   },
   "outputs": [],
   "source": [
    "fig,ax = plot_isomap(data_plot=proj, color=color2)\n",
    "# ax.set_zlim3d([-1,1])\n",
    "fig.tight_layout()\n",
    "fig.savefig('torus_isomap_distractor_hidden_layer_512_softplus.png')"
   ]
  },
  {
   "cell_type": "code",
   "execution_count": null,
   "id": "b3d602eb",
   "metadata": {},
   "outputs": [],
   "source": [
    "for neuron in [0,128,256,384]:\n",
    "    df = pd.DataFrame({'first_stim':ind_stim_loc1,'second_stim':ind_stim_loc2,'activity':Z[:,neuron]})\n",
    "    x = np.arange(0, 128, 1)\n",
    "    x = 360*x/128\n",
    "    y = df.groupby('first_stim')['activity'].mean()\n",
    "    plt.scatter(x,y)\n",
    "\n",
    "    plt.xlabel('Stim 1 direction (deg)')\n",
    "    plt.ylabel('Activity')\n",
    "    plt.title('Activity of %dth neuron'%neuron)\n",
    "    plt.show()\n",
    "    plt.close()"
   ]
  },
  {
   "cell_type": "code",
   "execution_count": null,
   "id": "337429ef",
   "metadata": {
    "scrolled": true
   },
   "outputs": [],
   "source": [
    "for neuron in [0,128,256,384]:\n",
    "    df = pd.DataFrame({'first_stim':ind_stim_loc1,'second_stim':ind_stim_loc2,'activity':Z[:,neuron]})\n",
    "    x = np.arange(0, 128, 1)\n",
    "    x = 360*x/128\n",
    "    y = df.groupby('second_stim')['activity'].mean()\n",
    "    plt.scatter(x,y,color='red')\n",
    "\n",
    "    plt.xlabel('Stim 2 direction (deg)')\n",
    "    plt.ylabel('Activity')\n",
    "    plt.title('Activity of %dth neuron'%neuron)\n",
    "    plt.show()\n",
    "    plt.close()"
   ]
  },
  {
   "cell_type": "code",
   "execution_count": null,
   "id": "98aa0e7c",
   "metadata": {},
   "outputs": [],
   "source": [
    "import statsmodels.api as sm\n",
    "from statsmodels.formula.api import ols"
   ]
  },
  {
   "cell_type": "code",
   "execution_count": null,
   "id": "d33cc11f",
   "metadata": {
    "scrolled": true
   },
   "outputs": [],
   "source": [
    "#Z[:,0]\n",
    "df = pd.DataFrame({'first_stim':ind_stim_loc1,'second_stim':ind_stim_loc2,'activity':Z[:,0]})"
   ]
  },
  {
   "cell_type": "code",
   "execution_count": null,
   "id": "49fc9bce",
   "metadata": {},
   "outputs": [],
   "source": [
    "df['first_stim']=(df['first_stim']/2).astype('int').astype('object')"
   ]
  },
  {
   "cell_type": "code",
   "execution_count": null,
   "id": "4caa67c1",
   "metadata": {},
   "outputs": [],
   "source": [
    "df['second_stim']=(df['second_stim']/2).astype('int').astype('object')"
   ]
  },
  {
   "cell_type": "code",
   "execution_count": null,
   "id": "881582e4",
   "metadata": {},
   "outputs": [],
   "source": [
    "#perform two-way ANOVA\n",
    "\n",
    "model = ols('activity ~ C(first_stim) + C(second_stim) + C(first_stim):C(second_stim)', data=df).fit()\n",
    "sm.stats.anova_lm(model, typ=2)"
   ]
  },
  {
   "cell_type": "code",
   "execution_count": null,
   "id": "d47b76bf",
   "metadata": {},
   "outputs": [],
   "source": [
    "import pandas as pd\n",
    "import pingouin as pg\n",
    "aov = pg.anova(dv='activity', between=['first_stim', 'second_stim'], data=df,\n",
    "             detailed=True)\n",
    "\n",
    "print(aov)"
   ]
  },
  {
   "cell_type": "code",
   "execution_count": null,
   "id": "b9862b7e",
   "metadata": {},
   "outputs": [],
   "source": [
    "aov = pg.anova(dv='activity', between=['first_stim'], data=df,\n",
    "             detailed=True)\n",
    "\n",
    "print(aov)"
   ]
  },
  {
   "cell_type": "code",
   "execution_count": null,
   "id": "f28b5b81",
   "metadata": {},
   "outputs": [],
   "source": [
    "aov = pg.anova(dv='activity', between=['second_stim'], data=df,\n",
    "             detailed=True)\n",
    "\n",
    "print(aov)"
   ]
  },
  {
   "cell_type": "markdown",
   "id": "c0f1835e",
   "metadata": {},
   "source": [
    "### n_rec = 256"
   ]
  },
  {
   "cell_type": "code",
   "execution_count": null,
   "id": "dd56f55d",
   "metadata": {},
   "outputs": [],
   "source": [
    "W = np.random.randn(256, 64) * 0.01\n",
    "Z = []\n",
    "for i in range(len(x_loc)):\n",
    "    Z.append(np.dot(W, x_loc[i]))\n",
    "Z = np.array(Z)"
   ]
  },
  {
   "cell_type": "code",
   "execution_count": null,
   "id": "98c14fd6",
   "metadata": {},
   "outputs": [],
   "source": [
    "from sklearn import decomposition, manifold\n",
    "n_neighbors = 15\n",
    "target_dim = 3\n",
    "data_to_use = Z.copy()\n",
    "iso_instance = manifold.Isomap(n_neighbors = n_neighbors, n_components = target_dim)\n",
    "proj = iso_instance.fit_transform(data_to_use)"
   ]
  },
  {
   "cell_type": "code",
   "execution_count": null,
   "id": "3dc928a6",
   "metadata": {},
   "outputs": [],
   "source": [
    "palette1 = cm.get_cmap('autumn',n_loc+15)\n",
    "palette1 = [palette1(i)[:3] for i in range(n_loc)]\n",
    "color1=np.array(palette1)[ind_stim_loc1]\n",
    "\n",
    "palette2 = cm.get_cmap('summer',n_loc+15)\n",
    "palette2 = [palette2(i)[:3] for i in range(n_loc)]\n",
    "color2=np.array(palette2)[ind_stim_loc2]\n",
    "\n",
    "fig,ax = plot_isomap(data_plot=proj, color=color1)\n",
    "# ax.set_zlim3d([-1,1])\n",
    "fig.tight_layout()\n",
    "fig.savefig('torus_isomap_target_hidden_layer_256.png')"
   ]
  },
  {
   "cell_type": "code",
   "execution_count": null,
   "id": "2d7d1f4c",
   "metadata": {
    "scrolled": true
   },
   "outputs": [],
   "source": [
    "fig,ax = plot_isomap(data_plot=proj, color=color2)\n",
    "# ax.set_zlim3d([-1,1])\n",
    "fig.tight_layout()\n",
    "fig.savefig('torus_isomap_distractor_hidden_layer_256.png')"
   ]
  },
  {
   "cell_type": "code",
   "execution_count": null,
   "id": "d5cb1ebf",
   "metadata": {
    "scrolled": true
   },
   "outputs": [],
   "source": [
    "for neuron in [0,32,64,96,128,160]:\n",
    "    df = pd.DataFrame({'first_stim':ind_stim_loc1,'second_stim':ind_stim_loc2,'activity':Z[:,neuron]})\n",
    "    x = np.arange(0, 128, 1)\n",
    "    x = 360*x/128\n",
    "    y = df.groupby('first_stim')['activity'].mean()\n",
    "    plt.scatter(x,y)\n",
    "\n",
    "    plt.xlabel('Stim 1 direction (deg)')\n",
    "    plt.ylabel('Activity')\n",
    "    plt.title('Activity of %dth neuron'%neuron)\n",
    "    plt.show()\n",
    "    plt.close()"
   ]
  },
  {
   "cell_type": "code",
   "execution_count": null,
   "id": "186f8cd7",
   "metadata": {
    "scrolled": true
   },
   "outputs": [],
   "source": [
    "for i in range(10):\n",
    "    neuron = 0\n",
    "    df = pd.DataFrame({'first_stim':ind_stim_loc1,'second_stim':ind_stim_loc2,'activity':Z[:,neuron]})\n",
    "    x = np.arange(0, 128, 1)\n",
    "    x = 360*x/128\n",
    "    y = df.groupby('second_stim')['activity'].first()[i]\n",
    "    plt.scatter(x,y,color='red')\n",
    "\n",
    "    plt.xlabel('Stim 2 direction (deg)')\n",
    "    plt.ylabel('Activity')\n",
    "    plt.title('Activity of %dth neuron'%neuron)\n",
    "    plt.show()\n",
    "    plt.close()"
   ]
  },
  {
   "cell_type": "code",
   "execution_count": null,
   "id": "9582361e",
   "metadata": {},
   "outputs": [],
   "source": [
    "df = pd.DataFrame({'first_stim':ind_stim_loc1,'second_stim':ind_stim_loc2,'activity':Z[:,neuron]})\n",
    "df.groupby('second_stim')['activity'].first()"
   ]
  },
  {
   "cell_type": "markdown",
   "id": "d734d974",
   "metadata": {},
   "source": [
    "#### non linear activation"
   ]
  },
  {
   "cell_type": "code",
   "execution_count": null,
   "id": "dbf813d1",
   "metadata": {},
   "outputs": [],
   "source": [
    "import tensorflow as tf\n",
    "Z = tf.math.softplus(Z).numpy()\n",
    "# import math\n",
    "# math.log(1+np.exp(Z))"
   ]
  },
  {
   "cell_type": "code",
   "execution_count": null,
   "id": "d94fe03f",
   "metadata": {},
   "outputs": [],
   "source": [
    "from sklearn import decomposition, manifold\n",
    "n_neighbors = 15\n",
    "target_dim = 3\n",
    "data_to_use = Z.copy()\n",
    "iso_instance = manifold.Isomap(n_neighbors = n_neighbors, n_components = target_dim)\n",
    "proj = iso_instance.fit_transform(data_to_use)"
   ]
  },
  {
   "cell_type": "code",
   "execution_count": null,
   "id": "90d0fb00",
   "metadata": {},
   "outputs": [],
   "source": [
    "palette1 = cm.get_cmap('autumn',n_loc+15)\n",
    "palette1 = [palette1(i)[:3] for i in range(n_loc)]\n",
    "color1=np.array(palette1)[ind_stim_loc1]\n",
    "\n",
    "palette2 = cm.get_cmap('summer',n_loc+15)\n",
    "palette2 = [palette2(i)[:3] for i in range(n_loc)]\n",
    "color2=np.array(palette2)[ind_stim_loc2]\n",
    "\n",
    "fig,ax = plot_isomap(data_plot=proj, color=color1)\n",
    "# ax.set_zlim3d([-1,1])\n",
    "fig.tight_layout()\n",
    "fig.savefig('torus_isomap_target_hidden_layer_256_softplus.png')"
   ]
  },
  {
   "cell_type": "code",
   "execution_count": null,
   "id": "b34b6b56",
   "metadata": {
    "scrolled": true
   },
   "outputs": [],
   "source": [
    "fig,ax = plot_isomap(data_plot=proj, color=color2)\n",
    "# ax.set_zlim3d([-1,1])\n",
    "fig.tight_layout()\n",
    "fig.savefig('torus_isomap_distractor_hidden_layer_256_softplus.png')"
   ]
  },
  {
   "cell_type": "code",
   "execution_count": null,
   "id": "90e05ed6",
   "metadata": {
    "scrolled": false
   },
   "outputs": [],
   "source": [
    "for neuron in [0,32,64,96,128,160]:\n",
    "    df = pd.DataFrame({'first_stim':ind_stim_loc1,'second_stim':ind_stim_loc2,'activity':Z[:,neuron]})\n",
    "    x = np.arange(0, 128, 1)\n",
    "    x = 360*x/128\n",
    "    y = df.groupby('first_stim')['activity'].mean()\n",
    "    plt.scatter(x,y)\n",
    "\n",
    "    plt.xlabel('Stim 1 direction (deg)')\n",
    "    plt.ylabel('Activity')\n",
    "    plt.title('Activity of %dth neuron'%neuron)\n",
    "    plt.show()\n",
    "    plt.close()"
   ]
  },
  {
   "cell_type": "code",
   "execution_count": null,
   "id": "02e1d062",
   "metadata": {
    "scrolled": true
   },
   "outputs": [],
   "source": [
    "for neuron in [0,32,64,96,128,160]:\n",
    "    df = pd.DataFrame({'first_stim':ind_stim_loc1,'second_stim':ind_stim_loc2,'activity':Z[:,neuron]})\n",
    "    x = np.arange(0, 128, 1)\n",
    "    x = 360*x/128\n",
    "    y = df.groupby('second_stim')['activity'].mean()\n",
    "    plt.scatter(x,y,color='red')\n",
    "\n",
    "    plt.xlabel('Stim 2 direction (deg)')\n",
    "    plt.ylabel('Activity')\n",
    "    plt.title('Activity of %dth neuron'%neuron)\n",
    "    plt.show()\n",
    "    plt.close()"
   ]
  },
  {
   "cell_type": "code",
   "execution_count": null,
   "id": "5f939a1c",
   "metadata": {},
   "outputs": [],
   "source": [
    "import statsmodels.api as sm\n",
    "from statsmodels.formula.api import ols"
   ]
  },
  {
   "cell_type": "code",
   "execution_count": null,
   "id": "17222e2e",
   "metadata": {
    "scrolled": true
   },
   "outputs": [],
   "source": [
    "#Z[:,0]\n",
    "df = pd.DataFrame({'first_stim':ind_stim_loc1,'second_stim':ind_stim_loc2,'activity':Z[:,0]})\n",
    "df['first_stim']=(df['first_stim']/2).astype('int').astype('object')\n",
    "df['second_stim']=(df['second_stim']/2).astype('int').astype('object')"
   ]
  },
  {
   "cell_type": "code",
   "execution_count": null,
   "id": "09d3ab62",
   "metadata": {},
   "outputs": [],
   "source": [
    "df"
   ]
  },
  {
   "cell_type": "code",
   "execution_count": null,
   "id": "1b0135d1",
   "metadata": {},
   "outputs": [],
   "source": [
    "#perform two-way ANOVA\n",
    "\n",
    "model = ols('activity ~ C(first_stim) + C(second_stim) + C(first_stim):C(second_stim)', data=df).fit()\n",
    "sm.stats.anova_lm(model, typ=2)"
   ]
  },
  {
   "cell_type": "code",
   "execution_count": null,
   "id": "1c2f9b5d",
   "metadata": {},
   "outputs": [],
   "source": [
    "import pandas as pd\n",
    "import pingouin as pg\n",
    "aov = pg.anova(dv='activity', between=['first_stim', 'second_stim'], data=df,\n",
    "             detailed=True)\n",
    "\n",
    "print(aov)"
   ]
  },
  {
   "cell_type": "code",
   "execution_count": null,
   "id": "24ab3fd8",
   "metadata": {},
   "outputs": [],
   "source": [
    "aov = pg.anova(dv='activity', between=['first_stim'], data=df,\n",
    "             detailed=True)\n",
    "\n",
    "print(aov)"
   ]
  },
  {
   "cell_type": "code",
   "execution_count": null,
   "id": "a3846d6a",
   "metadata": {},
   "outputs": [],
   "source": [
    "aov = pg.anova(dv='activity', between=['second_stim'], data=df,\n",
    "             detailed=True)\n",
    "\n",
    "print(aov)"
   ]
  },
  {
   "cell_type": "code",
   "execution_count": null,
   "id": "c1f53f7c",
   "metadata": {},
   "outputs": [],
   "source": [
    "x_loc[:,:32].shape"
   ]
  },
  {
   "cell_type": "code",
   "execution_count": null,
   "id": "f61a2d39",
   "metadata": {},
   "outputs": [],
   "source": [
    "W = np.random.randn(256, 32) * 0.01\n",
    "Z = []\n",
    "for i in range(len(x_loc)):\n",
    "    Z.append(np.dot(W, x_loc[:,:32][i]))\n",
    "Z = np.array(Z)\n",
    "Z = tf.math.softplus(Z).numpy()\n",
    "\n",
    "W_rec = np.random.randn(256, 256) * 0.01\n",
    "for i in range(len(x_loc)):\n",
    "    Z[i] += np.dot(W_rec, Z[i])\n",
    "\n",
    "for i in range(len(x_loc)):\n",
    "    Z[i] += np.dot(W, x_loc[:,32:][i])\n",
    "Z = tf.math.softplus(Z).numpy()"
   ]
  },
  {
   "cell_type": "code",
   "execution_count": null,
   "id": "cf8d08e9",
   "metadata": {},
   "outputs": [],
   "source": [
    "Z.shape"
   ]
  },
  {
   "cell_type": "code",
   "execution_count": null,
   "id": "2784471f",
   "metadata": {},
   "outputs": [],
   "source": []
  },
  {
   "cell_type": "code",
   "execution_count": null,
   "id": "61e15270",
   "metadata": {},
   "outputs": [],
   "source": [
    "from sklearn import decomposition, manifold\n",
    "n_neighbors = 15\n",
    "target_dim = 3\n",
    "data_to_use = Z.copy()\n",
    "iso_instance = manifold.Isomap(n_neighbors = n_neighbors, n_components = target_dim)\n",
    "proj = iso_instance.fit_transform(data_to_use)"
   ]
  },
  {
   "cell_type": "code",
   "execution_count": null,
   "id": "7b647951",
   "metadata": {},
   "outputs": [],
   "source": [
    "palette1 = cm.get_cmap('autumn',n_loc+15)\n",
    "palette1 = [palette1(i)[:3] for i in range(n_loc)]\n",
    "color1=np.array(palette1)[ind_stim_loc1]\n",
    "\n",
    "palette2 = cm.get_cmap('summer',n_loc+15)\n",
    "palette2 = [palette2(i)[:3] for i in range(n_loc)]\n",
    "color2=np.array(palette2)[ind_stim_loc2]\n",
    "\n",
    "fig,ax = plot_isomap(data_plot=proj, color=color1)\n",
    "# ax.set_zlim3d([-1,1])\n",
    "fig.tight_layout()\n",
    "fig.savefig('torus_isomap_target_hidden_layer_256_recurrent.png')"
   ]
  },
  {
   "cell_type": "code",
   "execution_count": null,
   "id": "4514f8a4",
   "metadata": {
    "scrolled": true
   },
   "outputs": [],
   "source": [
    "fig,ax = plot_isomap(data_plot=proj, color=color2)\n",
    "# ax.set_zlim3d([-1,1])\n",
    "fig.tight_layout()\n",
    "fig.savefig('torus_isomap_distractor_hidden_layer_256_recurrent.png')"
   ]
  },
  {
   "cell_type": "code",
   "execution_count": null,
   "id": "a521b5a8",
   "metadata": {},
   "outputs": [],
   "source": [
    "target_dim = 2\n",
    "for num in [num*int(128/10) for num in range(10)]:\n",
    "    indices = ind_stim_loc2==num\n",
    "    label_plot = ind_stim_loc1[indices]\n",
    "    data_to_use = x_loc[indices,:]\n",
    "\n",
    "    palette1 = cm.get_cmap('autumn',n_loc+15)\n",
    "    palette1 = [palette1(i)[:3] for i in range(n_loc)]\n",
    "    color2=np.array(palette1)[label_plot]\n",
    "\n",
    "    iso_instance = manifold.Isomap(n_neighbors = n_neighbors, n_components = target_dim)\n",
    "    proj = iso_instance.fit_transform(data_to_use)\n",
    "\n",
    "    fig,ax = plot_2d_isomap(data_plot=proj, color=color2)\n",
    "    fig.tight_layout()"
   ]
  },
  {
   "cell_type": "code",
   "execution_count": null,
   "id": "80da5e86",
   "metadata": {},
   "outputs": [],
   "source": [
    "np.lin"
   ]
  },
  {
   "cell_type": "code",
   "execution_count": null,
   "id": "0cfe333a",
   "metadata": {},
   "outputs": [],
   "source": [
    "def get_delay_bins(delay):\n",
    "        dt=20\n",
    "        stim1_ons = int(500/dt)\n",
    "        stim1_offs = stim1_ons + int(300/dt)\n",
    "        stim2_ons =stim1_offs + int(1000/dt)\n",
    "        stim2_offs = stim2_ons + int(300/dt)\n",
    "        fix_offs  = stim2_offs + int(1000/dt)\n",
    "\n",
    "        baseline = (0,stim1_ons)\n",
    "\n",
    "        if delay == 1:\n",
    "                delay_bins = (stim2_ons - int(500/dt),stim2_ons)\n",
    "\n",
    "        elif delay == 2:\n",
    "                delay_bins = (fix_offs - int(500/dt),fix_offs)\n",
    "\n",
    "        return delay_bins \n"
   ]
  },
  {
   "cell_type": "code",
   "execution_count": null,
   "id": "9683d8f1",
   "metadata": {},
   "outputs": [],
   "source": [
    "fpath = \"/Volumes/Seagate Backup Plus Drive/fyp/run_0_unrestricted_128loc_noise_free\"\n",
    "isomap_file = \"firing_rate_isomap_128testloc.mat\"\n",
    "n_loc = 128\n",
    "delay = 2\n",
    "\n",
    "model_dir = fpath\n",
    "data = scipy.io.loadmat(model_dir + '/%s'%isomap_file) #data = dict(firing_rate [time bins,120*106 trials,256 neurons], [120*106 target locations], [120*106 distractor locations])\n",
    "\n",
    "h = data['firing_rate']\n",
    "\n",
    "\n",
    "target_label = data['target'][0][:]\n",
    "distractor_label = data['distractor'][0][:]\n",
    "\n",
    "palette1 = cm.get_cmap('autumn',n_loc+15)\n",
    "palette1 = [palette1(i)[:3] for i in range(n_loc)]\n",
    "palette2 = cm.get_cmap('summer',n_loc+15)\n",
    "palette2 = [palette2(i)[:3] for i in range(n_loc)]\n",
    "\n",
    "\n",
    "print('delay%d'%(delay))\n",
    "\n",
    "#get delay 1 or delay 2 time bins\n",
    "delay_bins = get_delay_bins(delay=delay)\n",
    "#extract mean firing rates for delay bins\n",
    "df = pd.DataFrame(np.mean(h[delay_bins[0]:delay_bins[1], :, :], axis=0))\n",
    "df = np.array(df)"
   ]
  },
  {
   "cell_type": "code",
   "execution_count": null,
   "id": "fc933c05",
   "metadata": {},
   "outputs": [],
   "source": [
    "noise = np.random.randn(df.shape[0],df.shape[1]) * 0.01\n",
    "df1 = df + noise"
   ]
  },
  {
   "cell_type": "code",
   "execution_count": null,
   "id": "43c273f7",
   "metadata": {},
   "outputs": [],
   "source": [
    "from sklearn import decomposition, manifold\n",
    "n_neighbors = 15\n",
    "target_dim = 3\n",
    "data_to_use = df1.copy()\n",
    "iso_instance = manifold.Isomap(n_neighbors = n_neighbors, n_components = target_dim)\n",
    "proj = iso_instance.fit_transform(data_to_use)"
   ]
  },
  {
   "cell_type": "code",
   "execution_count": null,
   "id": "34bac5b3",
   "metadata": {},
   "outputs": [],
   "source": [
    "palette1 = cm.get_cmap('autumn',n_loc+15)\n",
    "palette1 = [palette1(i)[:3] for i in range(n_loc)]\n",
    "color1=np.array(palette1)[ind_stim_loc1]\n",
    "\n",
    "palette2 = cm.get_cmap('summer',n_loc+15)\n",
    "palette2 = [palette2(i)[:3] for i in range(n_loc)]\n",
    "color2=np.array(palette2)[ind_stim_loc2]\n",
    "\n",
    "fig,ax = plot_isomap(data_plot=proj, color=color1)\n",
    "# ax.set_zlim3d([-1,1])\n",
    "fig.tight_layout()\n",
    "fig.savefig('torus_isomap_target_add_noise_0.01.png')"
   ]
  },
  {
   "cell_type": "code",
   "execution_count": null,
   "id": "c2614465",
   "metadata": {
    "scrolled": true
   },
   "outputs": [],
   "source": [
    "fig,ax = plot_isomap(data_plot=proj, color=color2)\n",
    "# ax.set_zlim3d([-1,1])\n",
    "fig.tight_layout()\n",
    "fig.savefig('torus_isomap_distractor_add_noise_0.01.png')"
   ]
  },
  {
   "cell_type": "code",
   "execution_count": null,
   "id": "aedefc92",
   "metadata": {},
   "outputs": [],
   "source": [
    "noise = np.random.randn(df.shape[0],df.shape[1]) * 0.1\n",
    "df1 = df + noise"
   ]
  },
  {
   "cell_type": "code",
   "execution_count": null,
   "id": "ceb1a801",
   "metadata": {},
   "outputs": [],
   "source": [
    "from sklearn import decomposition, manifold\n",
    "n_neighbors = 15\n",
    "target_dim = 3\n",
    "data_to_use = df1.copy()\n",
    "iso_instance = manifold.Isomap(n_neighbors = n_neighbors, n_components = target_dim)\n",
    "proj = iso_instance.fit_transform(data_to_use)"
   ]
  },
  {
   "cell_type": "code",
   "execution_count": null,
   "id": "c5098940",
   "metadata": {},
   "outputs": [],
   "source": [
    "palette1 = cm.get_cmap('autumn',n_loc+15)\n",
    "palette1 = [palette1(i)[:3] for i in range(n_loc)]\n",
    "color1=np.array(palette1)[ind_stim_loc1]\n",
    "\n",
    "palette2 = cm.get_cmap('summer',n_loc+15)\n",
    "palette2 = [palette2(i)[:3] for i in range(n_loc)]\n",
    "color2=np.array(palette2)[ind_stim_loc2]\n",
    "\n",
    "fig,ax = plot_isomap(data_plot=proj, color=color1)\n",
    "# ax.set_zlim3d([-1,1])\n",
    "fig.tight_layout()\n",
    "fig.savefig('torus_isomap_target_add_noise_0.1.png')"
   ]
  },
  {
   "cell_type": "code",
   "execution_count": null,
   "id": "800b1fff",
   "metadata": {
    "scrolled": true
   },
   "outputs": [],
   "source": [
    "fig,ax = plot_isomap(data_plot=proj, color=color2)\n",
    "# ax.set_zlim3d([-1,1])\n",
    "fig.tight_layout()\n",
    "fig.savefig('torus_isomap_distractor_add_noise_0.1.png')"
   ]
  },
  {
   "cell_type": "code",
   "execution_count": null,
   "id": "57479250",
   "metadata": {},
   "outputs": [],
   "source": [
    "noise = np.random.randn(df.shape[0],df.shape[1]) * 1\n",
    "df1 = df + noise"
   ]
  },
  {
   "cell_type": "code",
   "execution_count": null,
   "id": "c3c095b6",
   "metadata": {},
   "outputs": [],
   "source": [
    "from sklearn import decomposition, manifold\n",
    "n_neighbors = 15\n",
    "target_dim = 3\n",
    "data_to_use = df1.copy()\n",
    "iso_instance = manifold.Isomap(n_neighbors = n_neighbors, n_components = target_dim)\n",
    "proj = iso_instance.fit_transform(data_to_use)"
   ]
  },
  {
   "cell_type": "code",
   "execution_count": null,
   "id": "8c641c94",
   "metadata": {},
   "outputs": [],
   "source": [
    "palette1 = cm.get_cmap('autumn',n_loc+15)\n",
    "palette1 = [palette1(i)[:3] for i in range(n_loc)]\n",
    "color1=np.array(palette1)[ind_stim_loc1]\n",
    "\n",
    "palette2 = cm.get_cmap('summer',n_loc+15)\n",
    "palette2 = [palette2(i)[:3] for i in range(n_loc)]\n",
    "color2=np.array(palette2)[ind_stim_loc2]\n",
    "\n",
    "fig,ax = plot_isomap(data_plot=proj, color=color1)\n",
    "# ax.set_zlim3d([-1,1])\n",
    "fig.tight_layout()\n",
    "fig.savefig('torus_isomap_target_add_noise.png')"
   ]
  },
  {
   "cell_type": "code",
   "execution_count": null,
   "id": "acff6d36",
   "metadata": {
    "scrolled": true
   },
   "outputs": [],
   "source": [
    "fig,ax = plot_isomap(data_plot=proj, color=color2)\n",
    "# ax.set_zlim3d([-1,1])\n",
    "fig.tight_layout()\n",
    "fig.savefig('torus_isomap_distractor_add_noise.png')"
   ]
  },
  {
   "cell_type": "markdown",
   "id": "86af688a",
   "metadata": {},
   "source": [
    "### n_rec = 128"
   ]
  },
  {
   "cell_type": "code",
   "execution_count": null,
   "id": "1b3dd720",
   "metadata": {},
   "outputs": [],
   "source": [
    "W = np.random.randn(128, 64) * 0.01\n",
    "Z = []\n",
    "for i in range(len(x_loc)):\n",
    "    Z.append(np.dot(W, x_loc[i]))\n",
    "Z = np.array(Z)"
   ]
  },
  {
   "cell_type": "code",
   "execution_count": null,
   "id": "1f31bc71",
   "metadata": {},
   "outputs": [],
   "source": [
    "from sklearn import decomposition, manifold\n",
    "n_neighbors = 15\n",
    "target_dim = 3\n",
    "data_to_use = Z.copy()\n",
    "iso_instance = manifold.Isomap(n_neighbors = n_neighbors, n_components = target_dim)\n",
    "proj = iso_instance.fit_transform(data_to_use)"
   ]
  },
  {
   "cell_type": "code",
   "execution_count": null,
   "id": "fc2ce5d0",
   "metadata": {},
   "outputs": [],
   "source": [
    "palette1 = cm.get_cmap('autumn',n_loc+15)\n",
    "palette1 = [palette1(i)[:3] for i in range(n_loc)]\n",
    "color1=np.array(palette1)[ind_stim_loc1]\n",
    "\n",
    "palette2 = cm.get_cmap('summer',n_loc+15)\n",
    "palette2 = [palette2(i)[:3] for i in range(n_loc)]\n",
    "color2=np.array(palette2)[ind_stim_loc2]\n",
    "\n",
    "fig,ax = plot_isomap(data_plot=proj, color=color1)\n",
    "# ax.set_zlim3d([-1,1])\n",
    "fig.tight_layout()\n",
    "fig.savefig('torus_isomap_target_hidden_layer_128.png')"
   ]
  },
  {
   "cell_type": "code",
   "execution_count": null,
   "id": "356cbf16",
   "metadata": {
    "scrolled": true
   },
   "outputs": [],
   "source": [
    "fig,ax = plot_isomap(data_plot=proj, color=color2)\n",
    "# ax.set_zlim3d([-1,1])\n",
    "fig.tight_layout()\n",
    "fig.savefig('torus_isomap_distractor_hidden_layer_128.png')"
   ]
  },
  {
   "cell_type": "code",
   "execution_count": null,
   "id": "ff084ac8",
   "metadata": {},
   "outputs": [],
   "source": [
    "for neuron in [0,32,64,96]:\n",
    "    df = pd.DataFrame({'first_stim':ind_stim_loc1,'second_stim':ind_stim_loc2,'activity':Z[:,neuron]})\n",
    "    x = np.arange(0, 128, 1)\n",
    "    x = 360*x/128\n",
    "    y = df.groupby('first_stim')['activity'].mean()\n",
    "    plt.scatter(x,y)\n",
    "\n",
    "    plt.xlabel('Stim 1 direction (deg)')\n",
    "    plt.ylabel('Activity')\n",
    "    plt.title('Activity of %dth neuron'%neuron)\n",
    "    plt.show()\n",
    "    plt.close()"
   ]
  },
  {
   "cell_type": "code",
   "execution_count": null,
   "id": "3583c528",
   "metadata": {
    "scrolled": true
   },
   "outputs": [],
   "source": [
    "for neuron in [0,32,64,96]:\n",
    "    df = pd.DataFrame({'first_stim':ind_stim_loc1,'second_stim':ind_stim_loc2,'activity':Z[:,neuron]})\n",
    "    x = np.arange(0, 128, 1)\n",
    "    x = 360*x/128\n",
    "    y = df.groupby('second_stim')['activity'].mean()\n",
    "    plt.scatter(x,y,color='red')\n",
    "\n",
    "    plt.xlabel('Stim 2 direction (deg)')\n",
    "    plt.ylabel('Activity')\n",
    "    plt.title('Activity of %dth neuron'%neuron)\n",
    "    plt.show()\n",
    "    plt.close()"
   ]
  },
  {
   "cell_type": "markdown",
   "id": "7a97bf9c",
   "metadata": {},
   "source": [
    "### n_rec = 64"
   ]
  },
  {
   "cell_type": "code",
   "execution_count": null,
   "id": "de3daa66",
   "metadata": {},
   "outputs": [],
   "source": [
    "W = np.random.randn(64, 64) * 0.01\n",
    "Z = []\n",
    "for i in range(len(x_loc)):\n",
    "    Z.append(np.dot(W, x_loc[i]))\n",
    "Z = np.array(Z)"
   ]
  },
  {
   "cell_type": "code",
   "execution_count": null,
   "id": "c8554c17",
   "metadata": {},
   "outputs": [],
   "source": [
    "from sklearn import decomposition, manifold\n",
    "n_neighbors = 15\n",
    "target_dim = 3\n",
    "data_to_use = Z.copy()\n",
    "iso_instance = manifold.Isomap(n_neighbors = n_neighbors, n_components = target_dim)\n",
    "proj = iso_instance.fit_transform(data_to_use)"
   ]
  },
  {
   "cell_type": "code",
   "execution_count": null,
   "id": "a270101e",
   "metadata": {},
   "outputs": [],
   "source": [
    "palette1 = cm.get_cmap('autumn',n_loc+15)\n",
    "palette1 = [palette1(i)[:3] for i in range(n_loc)]\n",
    "color1=np.array(palette1)[ind_stim_loc1]\n",
    "\n",
    "palette2 = cm.get_cmap('summer',n_loc+15)\n",
    "palette2 = [palette2(i)[:3] for i in range(n_loc)]\n",
    "color2=np.array(palette2)[ind_stim_loc2]\n",
    "\n",
    "fig,ax = plot_isomap(data_plot=proj, color=color1)\n",
    "# ax.set_zlim3d([-1,1])\n",
    "fig.tight_layout()\n",
    "fig.savefig('torus_isomap_target_hidden_layer_64.png')"
   ]
  },
  {
   "cell_type": "code",
   "execution_count": null,
   "id": "4a7b8647",
   "metadata": {
    "scrolled": true
   },
   "outputs": [],
   "source": [
    "fig,ax = plot_isomap(data_plot=proj, color=color2)\n",
    "# ax.set_zlim3d([-1,1])\n",
    "fig.tight_layout()\n",
    "fig.savefig('torus_isomap_distractor_hidden_layer_64.png')"
   ]
  },
  {
   "cell_type": "markdown",
   "id": "d6bfdb72",
   "metadata": {},
   "source": [
    "### n_rec = 32"
   ]
  },
  {
   "cell_type": "code",
   "execution_count": null,
   "id": "0e97967a",
   "metadata": {},
   "outputs": [],
   "source": [
    "W = np.random.randn(32, 64) * 0.01\n",
    "Z = []\n",
    "for i in range(len(x_loc)):\n",
    "    Z.append(np.dot(W, x_loc[i]))\n",
    "Z = np.array(Z)"
   ]
  },
  {
   "cell_type": "code",
   "execution_count": null,
   "id": "b9f0324c",
   "metadata": {},
   "outputs": [],
   "source": [
    "from sklearn import decomposition, manifold\n",
    "n_neighbors = 15\n",
    "target_dim = 3\n",
    "data_to_use = Z.copy()\n",
    "iso_instance = manifold.Isomap(n_neighbors = n_neighbors, n_components = target_dim)\n",
    "proj = iso_instance.fit_transform(data_to_use)"
   ]
  },
  {
   "cell_type": "code",
   "execution_count": null,
   "id": "c6469949",
   "metadata": {},
   "outputs": [],
   "source": [
    "palette1 = cm.get_cmap('autumn',n_loc+15)\n",
    "palette1 = [palette1(i)[:3] for i in range(n_loc)]\n",
    "color1=np.array(palette1)[ind_stim_loc1]\n",
    "\n",
    "palette2 = cm.get_cmap('summer',n_loc+15)\n",
    "palette2 = [palette2(i)[:3] for i in range(n_loc)]\n",
    "color2=np.array(palette2)[ind_stim_loc2]\n",
    "\n",
    "fig,ax = plot_isomap(data_plot=proj, color=color1)\n",
    "# ax.set_zlim3d([-1,1])\n",
    "fig.tight_layout()\n",
    "fig.savefig('torus_isomap_target_hidden_layer_32.png')"
   ]
  },
  {
   "cell_type": "code",
   "execution_count": null,
   "id": "ecde759b",
   "metadata": {
    "scrolled": false
   },
   "outputs": [],
   "source": [
    "fig,ax = plot_isomap(data_plot=proj, color=color2)\n",
    "# ax.set_zlim3d([-1,1])\n",
    "fig.tight_layout()\n",
    "fig.savefig('torus_isomap_distractor_hidden_layer_32.png')"
   ]
  },
  {
   "cell_type": "markdown",
   "id": "81245b56",
   "metadata": {},
   "source": [
    "### n_rec = 16"
   ]
  },
  {
   "cell_type": "code",
   "execution_count": null,
   "id": "889bc7b1",
   "metadata": {},
   "outputs": [],
   "source": [
    "W = np.random.randn(16, 64) * 0.01\n",
    "Z = []\n",
    "for i in range(len(x_loc)):\n",
    "    Z.append(np.dot(W, x_loc[i]))\n",
    "Z = np.array(Z)"
   ]
  },
  {
   "cell_type": "code",
   "execution_count": null,
   "id": "7bf14f41",
   "metadata": {},
   "outputs": [],
   "source": [
    "from sklearn import decomposition, manifold\n",
    "n_neighbors = 15\n",
    "target_dim = 3\n",
    "data_to_use = Z.copy()\n",
    "iso_instance = manifold.Isomap(n_neighbors = n_neighbors, n_components = target_dim)\n",
    "proj = iso_instance.fit_transform(data_to_use)"
   ]
  },
  {
   "cell_type": "code",
   "execution_count": null,
   "id": "b778883e",
   "metadata": {},
   "outputs": [],
   "source": [
    "palette1 = cm.get_cmap('autumn',n_loc+15)\n",
    "palette1 = [palette1(i)[:3] for i in range(n_loc)]\n",
    "color1=np.array(palette1)[ind_stim_loc1]\n",
    "\n",
    "palette2 = cm.get_cmap('summer',n_loc+15)\n",
    "palette2 = [palette2(i)[:3] for i in range(n_loc)]\n",
    "color2=np.array(palette2)[ind_stim_loc2]\n",
    "\n",
    "fig,ax = plot_isomap(data_plot=proj, color=color1)\n",
    "# ax.set_zlim3d([-1,1])\n",
    "fig.tight_layout()\n",
    "fig.savefig('torus_isomap_target_hidden_layer_16.png')"
   ]
  },
  {
   "cell_type": "code",
   "execution_count": null,
   "id": "04a39d0f",
   "metadata": {
    "scrolled": true
   },
   "outputs": [],
   "source": [
    "fig,ax = plot_isomap(data_plot=proj, color=color2)\n",
    "# ax.set_zlim3d([-1,1])\n",
    "fig.tight_layout()\n",
    "fig.savefig('torus_isomap_distractor_hidden_layer_16.png')"
   ]
  },
  {
   "cell_type": "markdown",
   "id": "31ea23a6",
   "metadata": {},
   "source": [
    "### n_rec = 8"
   ]
  },
  {
   "cell_type": "code",
   "execution_count": null,
   "id": "2ef9e4eb",
   "metadata": {},
   "outputs": [],
   "source": [
    "W = np.random.randn(8, 64) * 0.01\n",
    "Z = []\n",
    "for i in range(len(x_loc)):\n",
    "    Z.append(np.dot(W, x_loc[i]))\n",
    "Z = np.array(Z)"
   ]
  },
  {
   "cell_type": "code",
   "execution_count": null,
   "id": "a9db42c1",
   "metadata": {},
   "outputs": [],
   "source": [
    "from sklearn import decomposition, manifold\n",
    "n_neighbors = 15\n",
    "target_dim = 3\n",
    "data_to_use = Z.copy()\n",
    "iso_instance = manifold.Isomap(n_neighbors = n_neighbors, n_components = target_dim)\n",
    "proj = iso_instance.fit_transform(data_to_use)"
   ]
  },
  {
   "cell_type": "code",
   "execution_count": null,
   "id": "83ee3c5c",
   "metadata": {},
   "outputs": [],
   "source": [
    "palette1 = cm.get_cmap('autumn',n_loc+15)\n",
    "palette1 = [palette1(i)[:3] for i in range(n_loc)]\n",
    "color1=np.array(palette1)[ind_stim_loc1]\n",
    "\n",
    "palette2 = cm.get_cmap('summer',n_loc+15)\n",
    "palette2 = [palette2(i)[:3] for i in range(n_loc)]\n",
    "color2=np.array(palette2)[ind_stim_loc2]\n",
    "\n",
    "fig,ax = plot_isomap(data_plot=proj, color=color1)\n",
    "# ax.set_zlim3d([-1,1])\n",
    "fig.tight_layout()\n",
    "fig.savefig('torus_isomap_target_hidden_layer_8.png')"
   ]
  },
  {
   "cell_type": "code",
   "execution_count": null,
   "id": "dcc22640",
   "metadata": {
    "scrolled": true
   },
   "outputs": [],
   "source": [
    "fig,ax = plot_isomap(data_plot=proj, color=color2)\n",
    "# ax.set_zlim3d([-1,1])\n",
    "fig.tight_layout()\n",
    "fig.savefig('torus_isomap_distractor_hidden_layer_8.png')"
   ]
  },
  {
   "cell_type": "code",
   "execution_count": null,
   "id": "bb002a73",
   "metadata": {},
   "outputs": [],
   "source": [
    "for loc in [0,60]:\n",
    "    x = np.arange(0, Z.shape[1], 1)\n",
    "    y = Z[ind_stim_loc1==loc].mean(axis=0)\n",
    "    plt.scatter(x,y)\n",
    "\n",
    "    plt.xlabel('Hidden neuron')\n",
    "    plt.ylabel('Activity')\n",
    "    plt.title('Activity of %d neurons at stim1=%d'%(Z.shape[1],loc))\n",
    "    plt.show()\n",
    "    plt.close()"
   ]
  },
  {
   "cell_type": "code",
   "execution_count": null,
   "id": "81f6d395",
   "metadata": {
    "scrolled": true
   },
   "outputs": [],
   "source": [
    "for loc in [0,60]:\n",
    "    x = np.arange(0, Z.shape[1], 1)\n",
    "    y = Z[ind_stim_loc2==loc].mean(axis=0)\n",
    "    plt.scatter(x,y,color='red')\n",
    "\n",
    "    plt.xlabel('Hidden neuron')\n",
    "    plt.ylabel('Activity')\n",
    "    plt.title('Activity of %d neurons at stim2=%d'%(Z.shape[1],loc))\n",
    "    plt.show()\n",
    "    plt.close()"
   ]
  },
  {
   "cell_type": "markdown",
   "id": "e03bc281",
   "metadata": {},
   "source": [
    "#### non linear activation"
   ]
  },
  {
   "cell_type": "code",
   "execution_count": null,
   "id": "71035d14",
   "metadata": {},
   "outputs": [],
   "source": [
    "import tensorflow as tf\n",
    "Z = tf.math.softplus(Z).numpy()\n",
    "# import math\n",
    "# math.log(1+np.exp(Z))"
   ]
  },
  {
   "cell_type": "code",
   "execution_count": null,
   "id": "7ae252a7",
   "metadata": {},
   "outputs": [],
   "source": [
    "from sklearn import decomposition, manifold\n",
    "n_neighbors = 15\n",
    "target_dim = 3\n",
    "data_to_use = Z.copy()\n",
    "iso_instance = manifold.Isomap(n_neighbors = n_neighbors, n_components = target_dim)\n",
    "proj = iso_instance.fit_transform(data_to_use)"
   ]
  },
  {
   "cell_type": "code",
   "execution_count": null,
   "id": "10002e5d",
   "metadata": {},
   "outputs": [],
   "source": [
    "palette1 = cm.get_cmap('autumn',n_loc+15)\n",
    "palette1 = [palette1(i)[:3] for i in range(n_loc)]\n",
    "color1=np.array(palette1)[ind_stim_loc1]\n",
    "\n",
    "palette2 = cm.get_cmap('summer',n_loc+15)\n",
    "palette2 = [palette2(i)[:3] for i in range(n_loc)]\n",
    "color2=np.array(palette2)[ind_stim_loc2]\n",
    "\n",
    "fig,ax = plot_isomap(data_plot=proj, color=color1)\n",
    "# ax.set_zlim3d([-1,1])\n",
    "fig.tight_layout()\n",
    "fig.savefig('torus_isomap_target_hidden_layer_8_softplus.png')"
   ]
  },
  {
   "cell_type": "code",
   "execution_count": null,
   "id": "20f83f43",
   "metadata": {
    "scrolled": true
   },
   "outputs": [],
   "source": [
    "fig,ax = plot_isomap(data_plot=proj, color=color2)\n",
    "# ax.set_zlim3d([-1,1])\n",
    "fig.tight_layout()\n",
    "fig.savefig('torus_isomap_distractor_hidden_layer_8_softplus.png')"
   ]
  },
  {
   "cell_type": "code",
   "execution_count": null,
   "id": "f9b44225",
   "metadata": {},
   "outputs": [],
   "source": [
    "for loc in [0,60]:\n",
    "    x = np.arange(0, Z.shape[1], 1)\n",
    "    y = Z[ind_stim_loc1==loc].mean(axis=0)\n",
    "    plt.scatter(x,y)\n",
    "\n",
    "    plt.xlabel('Hidden neuron')\n",
    "    plt.ylabel('Activity')\n",
    "    plt.title('Activity of %d neurons at stim1=%d'%(Z.shape[1],loc))\n",
    "    plt.show()\n",
    "    plt.close()"
   ]
  },
  {
   "cell_type": "code",
   "execution_count": null,
   "id": "ab39c1a3",
   "metadata": {
    "scrolled": true
   },
   "outputs": [],
   "source": [
    "for loc in [0,60]:\n",
    "    x = np.arange(0, Z.shape[1], 1)\n",
    "    y = Z[ind_stim_loc2==loc].mean(axis=0)\n",
    "    plt.scatter(x,y,color='red')\n",
    "\n",
    "    plt.xlabel('Hidden neuron')\n",
    "    plt.ylabel('Activity')\n",
    "    plt.title('Activity of %d neurons at stim2=%d'%(Z.shape[1],loc))\n",
    "    plt.show()\n",
    "    plt.close()"
   ]
  },
  {
   "cell_type": "markdown",
   "id": "01300a22",
   "metadata": {},
   "source": [
    "### n_rec = 4"
   ]
  },
  {
   "cell_type": "code",
   "execution_count": null,
   "id": "3a109b6b",
   "metadata": {},
   "outputs": [],
   "source": [
    "W = np.random.randn(4, 64) * 0.01\n",
    "Z = []\n",
    "for i in range(len(x_loc)):\n",
    "    Z.append(np.dot(W, x_loc[i]))\n",
    "Z = np.array(Z)"
   ]
  },
  {
   "cell_type": "code",
   "execution_count": null,
   "id": "1ebc3233",
   "metadata": {},
   "outputs": [],
   "source": [
    "from sklearn import decomposition, manifold\n",
    "n_neighbors = 15\n",
    "target_dim = 3\n",
    "data_to_use = Z.copy()\n",
    "iso_instance = manifold.Isomap(n_neighbors = n_neighbors, n_components = target_dim)\n",
    "proj = iso_instance.fit_transform(data_to_use)"
   ]
  },
  {
   "cell_type": "code",
   "execution_count": null,
   "id": "cbbed944",
   "metadata": {},
   "outputs": [],
   "source": [
    "palette1 = cm.get_cmap('autumn',n_loc+15)\n",
    "palette1 = [palette1(i)[:3] for i in range(n_loc)]\n",
    "color1=np.array(palette1)[ind_stim_loc1]\n",
    "\n",
    "palette2 = cm.get_cmap('summer',n_loc+15)\n",
    "palette2 = [palette2(i)[:3] for i in range(n_loc)]\n",
    "color2=np.array(palette2)[ind_stim_loc2]\n",
    "\n",
    "fig,ax = plot_isomap(data_plot=proj, color=color1)\n",
    "# ax.set_zlim3d([-1,1])\n",
    "fig.tight_layout()\n",
    "fig.savefig('torus_isomap_target_hidden_layer_4.png')"
   ]
  },
  {
   "cell_type": "code",
   "execution_count": null,
   "id": "be22d4cf",
   "metadata": {
    "scrolled": false
   },
   "outputs": [],
   "source": [
    "fig,ax = plot_isomap(data_plot=proj, color=color2)\n",
    "# ax.set_zlim3d([-1,1])\n",
    "fig.tight_layout()\n",
    "fig.savefig('torus_isomap_distractor_hidden_layer_4.png')"
   ]
  },
  {
   "cell_type": "code",
   "execution_count": null,
   "id": "5c82e743",
   "metadata": {},
   "outputs": [],
   "source": [
    "target_dim = 2\n",
    "num = 0\n",
    "indices = ind_stim_loc1==num\n",
    "label_plot = ind_stim_loc2[indices]\n",
    "data_to_use = Z[indices,:]\n",
    "\n",
    "palette2 = cm.get_cmap('summer',n_loc+15)\n",
    "palette2 = [palette2(i)[:3] for i in range(n_loc)]\n",
    "color2=np.array(palette2)[label_plot]\n",
    "\n",
    "iso_instance = manifold.Isomap(n_neighbors = n_neighbors, n_components = target_dim)\n",
    "proj = iso_instance.fit_transform(data_to_use)\n",
    "\n",
    "fig,ax = plot_2d_isomap(data_plot=proj, color=color2)\n",
    "fig.tight_layout()\n",
    "fig.savefig('isomap_distractor_slice_hidden_layer_4.png')"
   ]
  },
  {
   "cell_type": "code",
   "execution_count": null,
   "id": "56be02dc",
   "metadata": {},
   "outputs": [],
   "source": [
    "target_dim = 2\n",
    "num = 0\n",
    "indices = ind_stim_loc2==num\n",
    "label_plot = ind_stim_loc1[indices]\n",
    "data_to_use = Z[indices,:]\n",
    "\n",
    "palette1 = cm.get_cmap('autumn',n_loc+15)\n",
    "palette1 = [palette1(i)[:3] for i in range(n_loc)]\n",
    "color1=np.array(palette1)[label_plot]\n",
    "\n",
    "iso_instance = manifold.Isomap(n_neighbors = n_neighbors, n_components = target_dim)\n",
    "proj = iso_instance.fit_transform(data_to_use)\n",
    "\n",
    "fig,ax = plot_2d_isomap(data_plot=proj, color=color1)\n",
    "fig.tight_layout()\n",
    "# fig.savefig('target_slice_isomap_2d.png')\n",
    "fig.savefig('isomap_target_slice_hidden_layer_4.png')"
   ]
  },
  {
   "cell_type": "markdown",
   "id": "f2ee0975",
   "metadata": {},
   "source": [
    "### n_rec = 3"
   ]
  },
  {
   "cell_type": "code",
   "execution_count": null,
   "id": "ef367639",
   "metadata": {},
   "outputs": [],
   "source": [
    "W = np.random.randn(3, 64) * 0.01\n",
    "Z = []\n",
    "for i in range(len(x_loc)):\n",
    "    Z.append(np.dot(W, x_loc[i]))\n",
    "Z = np.array(Z)"
   ]
  },
  {
   "cell_type": "code",
   "execution_count": null,
   "id": "58c99edd",
   "metadata": {},
   "outputs": [],
   "source": [
    "palette1 = cm.get_cmap('autumn',n_loc+15)\n",
    "palette1 = [palette1(i)[:3] for i in range(n_loc)]\n",
    "color1=np.array(palette1)[ind_stim_loc1]\n",
    "\n",
    "palette2 = cm.get_cmap('summer',n_loc+15)\n",
    "palette2 = [palette2(i)[:3] for i in range(n_loc)]\n",
    "color2=np.array(palette2)[ind_stim_loc2]\n",
    "\n",
    "fig,ax = plot_isomap(data_plot=Z, color=color1)\n",
    "# ax.set_zlim3d([-1,1])\n",
    "fig.tight_layout()\n",
    "# fig.savefig('torus_isomap_target_hidden_layer_16.png')"
   ]
  },
  {
   "cell_type": "code",
   "execution_count": null,
   "id": "dcbe3846",
   "metadata": {},
   "outputs": [],
   "source": [
    "fig,ax = plot_isomap(data_plot=Z, color=color2)\n",
    "# ax.set_zlim3d([-1,1])\n",
    "fig.tight_layout()\n",
    "# fig.savefig('torus_isomap_distractor_hidden_layer_16.png')"
   ]
  },
  {
   "cell_type": "code",
   "execution_count": null,
   "id": "b909a505",
   "metadata": {},
   "outputs": [],
   "source": [
    "from sklearn import decomposition, manifold\n",
    "n_neighbors = 15\n",
    "target_dim = 3\n",
    "data_to_use = Z.copy()\n",
    "iso_instance = manifold.Isomap(n_neighbors = n_neighbors, n_components = target_dim)\n",
    "proj = iso_instance.fit_transform(data_to_use)"
   ]
  },
  {
   "cell_type": "code",
   "execution_count": null,
   "id": "ceb444ed",
   "metadata": {},
   "outputs": [],
   "source": [
    "palette1 = cm.get_cmap('autumn',n_loc+15)\n",
    "palette1 = [palette1(i)[:3] for i in range(n_loc)]\n",
    "color1=np.array(palette1)[ind_stim_loc1]\n",
    "\n",
    "palette2 = cm.get_cmap('summer',n_loc+15)\n",
    "palette2 = [palette2(i)[:3] for i in range(n_loc)]\n",
    "color2=np.array(palette2)[ind_stim_loc2]\n",
    "\n",
    "fig,ax = plot_isomap(data_plot=proj, color=color1)\n",
    "# ax.set_zlim3d([-1,1])\n",
    "fig.tight_layout()\n",
    "fig.savefig('torus_isomap_target_hidden_layer_3.png')"
   ]
  },
  {
   "cell_type": "code",
   "execution_count": null,
   "id": "db25163a",
   "metadata": {
    "scrolled": true
   },
   "outputs": [],
   "source": [
    "fig,ax = plot_isomap(data_plot=proj, color=color2)\n",
    "# ax.set_zlim3d([-1,1])\n",
    "fig.tight_layout()\n",
    "fig.savefig('torus_isomap_distractor_hidden_layer_3.png')"
   ]
  },
  {
   "cell_type": "code",
   "execution_count": null,
   "id": "338befab",
   "metadata": {},
   "outputs": [],
   "source": [
    "target_dim = 2\n",
    "num = 0\n",
    "indices = ind_stim_loc2==num\n",
    "label_plot = ind_stim_loc1[indices]\n",
    "data_to_use = Z[indices,:]\n",
    "\n",
    "palette1 = cm.get_cmap('autumn',n_loc+15)\n",
    "palette1 = [palette1(i)[:3] for i in range(n_loc)]\n",
    "color1=np.array(palette1)[label_plot]\n",
    "\n",
    "iso_instance = manifold.Isomap(n_neighbors = n_neighbors, n_components = target_dim)\n",
    "proj = iso_instance.fit_transform(data_to_use)\n",
    "\n",
    "fig,ax = plot_2d_isomap(data_plot=proj, color=color1)\n",
    "fig.tight_layout()\n",
    "# fig.savefig('target_slice_isomap_2d.png')\n",
    "fig.savefig('isomap_target_slice_hidden_layer_2.png')"
   ]
  },
  {
   "cell_type": "markdown",
   "id": "90443f4c",
   "metadata": {},
   "source": [
    "### Weights normal distribution"
   ]
  },
  {
   "cell_type": "code",
   "execution_count": null,
   "id": "2c1ce957",
   "metadata": {},
   "outputs": [],
   "source": [
    "W = np.random.randn(256, 64) * 0.01\n",
    "plt.hist(W.flatten(),bins=100)\n",
    "plt.gca().set(ylabel='Frequency', xlabel='Weight');"
   ]
  },
  {
   "cell_type": "code",
   "execution_count": null,
   "id": "99578124",
   "metadata": {},
   "outputs": [],
   "source": [
    "plt.hist(W[100],bins=100)\n",
    "plt.gca().set(title='Frequency Histogram', ylabel='Frequency');"
   ]
  },
  {
   "cell_type": "code",
   "execution_count": null,
   "id": "63890bc3",
   "metadata": {},
   "outputs": [],
   "source": [
    "plt.hist(W.T[0],bins=100)\n",
    "plt.gca().set(title='Frequency Histogram', ylabel='Frequency');"
   ]
  },
  {
   "cell_type": "code",
   "execution_count": null,
   "id": "9269c5af",
   "metadata": {},
   "outputs": [],
   "source": []
  }
 ],
 "metadata": {
  "kernelspec": {
   "display_name": "Python 3 (ipykernel)",
   "language": "python",
   "name": "python3"
  },
  "language_info": {
   "codemirror_mode": {
    "name": "ipython",
    "version": 3
   },
   "file_extension": ".py",
   "mimetype": "text/x-python",
   "name": "python",
   "nbconvert_exporter": "python",
   "pygments_lexer": "ipython3",
   "version": "3.8.12"
  }
 },
 "nbformat": 4,
 "nbformat_minor": 5
}
