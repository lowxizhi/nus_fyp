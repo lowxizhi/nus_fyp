{
 "cells": [
  {
   "cell_type": "code",
   "execution_count": null,
   "id": "18e64590",
   "metadata": {},
   "outputs": [],
   "source": [
    "import tensorflow as tf\n",
    "import numpy as np\n",
    "import pandas as pd\n",
    "import matplotlib.pyplot as plt\n",
    "import pandas as pd\n",
    "import pingouin as pg\n",
    "from sklearn import decomposition, manifold\n",
    "from matplotlib import cm\n",
    "import scipy.io"
   ]
  },
  {
   "cell_type": "code",
   "execution_count": null,
   "id": "963b6219",
   "metadata": {},
   "outputs": [],
   "source": [
    "def add_x_loc(x_loc, n_eachring = 32):\n",
    "    \"\"\"Input activity given location.\"\"\"\n",
    "    pref  = np.arange(0,2*np.pi,2*np.pi/n_eachring)\n",
    "    dist = get_dist(x_loc-pref)  # periodic boundary\n",
    "    dist /= np.pi/8\n",
    "    return 0.8*np.exp(-dist**2/2)\n",
    "\n",
    "def add_x_noise(x, seed=0,sigma_x = 0.01):\n",
    "    rng = np.random.RandomState(seed)\n",
    "    x += rng.randn(len(x1))*sigma_x\n",
    "    return x\n",
    "\n",
    "def get_dist(original_dist):\n",
    "    '''Get the distance in periodic boundary conditions'''\n",
    "    return np.minimum(abs(original_dist),2*np.pi-abs(original_dist))\n",
    "\n",
    "n_loc = 128\n",
    "n_stim_loc1, n_stim_loc2, repeat = stim_loc_shape = n_loc, n_loc, 1\n",
    "stim_loc_size = np.prod(stim_loc_shape)\n",
    "ind_stim_loc1, ind_stim_loc2, ind_repeat = np.unravel_index(range(stim_loc_size),stim_loc_shape)\n",
    "stim1_locs = 2*np.pi*ind_stim_loc1/n_stim_loc1\n",
    "stim2_locs = 2*np.pi*ind_stim_loc2/n_stim_loc2"
   ]
  },
  {
   "cell_type": "code",
   "execution_count": null,
   "id": "de6c9799",
   "metadata": {},
   "outputs": [],
   "source": [
    "128*128/512"
   ]
  },
  {
   "cell_type": "code",
   "execution_count": null,
   "id": "9cc2b878",
   "metadata": {},
   "outputs": [],
   "source": [
    "stim1_locs[:5]"
   ]
  },
  {
   "cell_type": "code",
   "execution_count": null,
   "id": "80b90d73",
   "metadata": {},
   "outputs": [],
   "source": [
    "def forward_prop(X, n_Z=256, activation=None, seed=0):\n",
    "    rng = np.random.RandomState(seed)\n",
    "    n_X = X.shape[1]\n",
    "    W = rng.randn(n_Z, n_X) * 0.01\n",
    "    Z = []\n",
    "    for i in range(len(X)):\n",
    "        Z.append(np.dot(W, X[i]))\n",
    "    Z = np.array(Z)\n",
    "    if activation == 'softplus':\n",
    "        Z = tf.math.softplus(Z).numpy()\n",
    "    elif activation == 'sigmoid':\n",
    "        Z = tf.math.sigmoid(Z).numpy()\n",
    "    return Z, W"
   ]
  },
  {
   "cell_type": "code",
   "execution_count": null,
   "id": "7fb3f6a6",
   "metadata": {},
   "outputs": [],
   "source": [
    "palette1 = cm.get_cmap('autumn',n_loc+15)\n",
    "palette1 = [palette1(i)[:3] for i in range(n_loc)]\n",
    "color1=np.array(palette1)[ind_stim_loc1]\n",
    "\n",
    "palette2 = cm.get_cmap('summer',n_loc+15)\n",
    "palette2 = [palette2(i)[:3] for i in range(n_loc)]\n",
    "color2=np.array(palette2)[ind_stim_loc2]\n",
    "\n",
    "palette1 = cm.get_cmap('autumn',n_loc+15)\n",
    "palette1 = [palette1(i)[:3] for i in range(n_loc)]\n",
    "color1=np.array(palette1)[ind_stim_loc1]\n",
    "\n",
    "palette2 = cm.get_cmap('summer',n_loc+15)\n",
    "palette2 = [palette2(i)[:3] for i in range(n_loc)]\n",
    "color2=np.array(palette2)[ind_stim_loc2]\n",
    "\n",
    "def plot_tuning_curves(Z,filename=''):    \n",
    "    fig,ax = plt.subplots(10,1,figsize=(5,30))\n",
    "    for i in range(10):\n",
    "        neuron = i*int(Z.shape[1]/10)\n",
    "        for loc1 in [j*10 for j in range(int(128/10))]:\n",
    "            df = pd.DataFrame({'first_stim':ind_stim_loc1[ind_stim_loc1==loc1],'second_stim':ind_stim_loc2[ind_stim_loc1==loc1],'activity':Z[:,neuron][ind_stim_loc1==loc1]})\n",
    "            x = df['second_stim']\n",
    "            y = df['activity']\n",
    "            ax[i].scatter(x,y,s=1, color=palette1[loc1], label=loc1)\n",
    "        ax[i].set_ylabel('%dth neuron'%neuron)\n",
    "        ax[i].legend()\n",
    "        plt.xlabel('Stim 2 direction (deg)')\n",
    "    if filename != '': \n",
    "        fig.savefig('stim1'+filename)\n",
    "    plt.show()\n",
    "    plt.close()\n",
    "        \n",
    "    fig,ax = plt.subplots(10,1,figsize=(5,30))\n",
    "    for i in range(10):\n",
    "        neuron = i*int(Z.shape[1]/10)\n",
    "        for loc2 in [j*10 for j in range(int(128/10))]:\n",
    "            df = pd.DataFrame({'first_stim':ind_stim_loc1[ind_stim_loc2==loc2],'second_stim':ind_stim_loc2[ind_stim_loc2==loc2],'activity':Z[:,neuron][ind_stim_loc2==loc2]})\n",
    "            x = df['first_stim']\n",
    "            y = df['activity']\n",
    "            ax[i].scatter(x,y,s=1, color=palette2[loc2], label=loc2)\n",
    "        ax[i].set_ylabel('%dth neuron'%neuron)\n",
    "        ax[i].legend()\n",
    "        plt.xlabel('Stim 1 direction (deg)')\n",
    "    if filename != '':\n",
    "        fig.savefig('stim2'+filename)\n",
    "    plt.show()\n",
    "    plt.close()\n",
    "    \n",
    "def fit_isomap(data_to_use, n_neighbors = 15, target_dim = 3):\n",
    "    iso_instance = manifold.Isomap(n_neighbors = n_neighbors, n_components = target_dim)\n",
    "    proj = iso_instance.fit_transform(data_to_use)\n",
    "    return proj\n",
    "\n",
    "def set_axes_equal(ax):\n",
    "    '''Make axes of 3D plot have equal scale so that spheres appear as spheres,\n",
    "    cubes as cubes, etc..  This is one possible solution to Matplotlib's\n",
    "    ax.set_aspect('equal') and ax.axis('equal') not working for 3D.\n",
    "\n",
    "    Input\n",
    "      ax: a matplotlib axis, e.g., as output from plt.gca().\n",
    "    '''\n",
    "\n",
    "    x_limits = ax.get_xlim3d()\n",
    "    y_limits = ax.get_ylim3d()\n",
    "    z_limits = ax.get_zlim3d()\n",
    "\n",
    "    x_range = abs(x_limits[1] - x_limits[0])\n",
    "    x_middle = np.mean(x_limits)\n",
    "    y_range = abs(y_limits[1] - y_limits[0])\n",
    "    y_middle = np.mean(y_limits)\n",
    "    z_range = abs(z_limits[1] - z_limits[0])\n",
    "    z_middle = np.mean(z_limits)\n",
    "\n",
    "    # The plot bounding box is a sphere in the sense of the infinity\n",
    "    # norm, hence I call half the max range the plot radius.\n",
    "    plot_radius = 0.5*max([x_range, y_range, z_range])\n",
    "\n",
    "    ax.set_xlim3d([x_middle - plot_radius, x_middle + plot_radius])\n",
    "    ax.set_ylim3d([y_middle - plot_radius, y_middle + plot_radius])\n",
    "    ax.set_zlim3d([z_middle - plot_radius, z_middle + plot_radius])\n",
    "\n",
    "def plot_isomap(data_plot, color, annotate=False):\n",
    "    fig = plt.figure(figsize=(16,16),dpi=200)\n",
    "    ax = fig.add_subplot(111, projection='3d')\n",
    "\n",
    "    if annotate:\n",
    "        ax.scatter(data_plot[:,0], data_plot[:,1], data_plot[:,2], \n",
    "            s=5, alpha=1, edgecolor='face',c=color)\n",
    "        label = 0\n",
    "        for xyz in zip(data_plot[:,0], data_plot[:,1], data_plot[:,2]):\n",
    "            x, y, z = xyz\n",
    "            ax.text(x, y, z, '%s' % (label), size=5, zorder=1, color='k')\n",
    "            label += 1\n",
    "    else:\n",
    "        ax.scatter(data_plot[:,0], data_plot[:,1], data_plot[:,2], \n",
    "            s=20, alpha=1, edgecolor='face',c=color)\n",
    "    ax.grid(False)\n",
    "    ax.xaxis.pane.fill = False\n",
    "    ax.yaxis.pane.fill = False\n",
    "    ax.zaxis.pane.fill = False\n",
    "    ax.xaxis.pane.set_edgecolor('w')\n",
    "    ax.yaxis.pane.set_edgecolor('w')\n",
    "    ax.zaxis.pane.set_edgecolor('w')\n",
    "    return fig, ax\n",
    "\n",
    "def plot_single_distractor_or_target(palette, xlim, ylim, zlim, label_plot, proj_plot, annotate=False, filename=''):\n",
    "\n",
    "    color=np.array(palette)[label_plot]\n",
    "\n",
    "    # h0_longest,h1_longest,h2_longest = run_ripser(proj_plot,figure_dir+'ripser'+figure_subscript)\n",
    "    fig, ax = plot_isomap(data_plot=proj_plot, color=color, annotate=annotate)\n",
    "    plt.setp(ax, xlim=xlim, ylim=ylim, zlim=zlim)\n",
    "    fig.tight_layout()\n",
    "    if filename is not None:\n",
    "        fig.savefig(filename)\n",
    "    plt.show()\n",
    "    plt.close(fig) \n",
    "\n",
    "\n",
    "def plot_all_isomap_figures(proj,filename=''):\n",
    "    fig,ax = plot_isomap(data_plot=proj, color=color1)\n",
    "    set_axes_equal(ax)\n",
    "    fig.tight_layout()\n",
    "    if filename is not None:\n",
    "        fig.savefig('target_isomap_'+filename)\n",
    "    plt.show()\n",
    "    plt.close(fig)\n",
    "\n",
    "    fig,ax = plot_isomap(data_plot=proj, color=color2)\n",
    "    set_axes_equal(ax)\n",
    "    fig.tight_layout()\n",
    "    if filename is not None:\n",
    "        fig.savefig('distractor_isomap_'+filename)\n",
    "    plt.show()\n",
    "    plt.close(fig)\n",
    "\n",
    "    xlim=fig.gca().get_xlim()\n",
    "    ylim=fig.gca().get_ylim()\n",
    "    zlim=fig.gca().get_zlim()\n",
    "\n",
    "    num=0\n",
    "    indices = ind_stim_loc1==num\n",
    "    label_plot = ind_stim_loc2[indices]\n",
    "    proj_plot = proj[indices,:]\n",
    "    plot_single_distractor_or_target(palette = palette2, xlim = xlim, ylim = ylim, zlim = zlim, label_plot=label_plot, proj_plot = proj_plot, filename = 'single_target_'+filename)\n",
    "\n",
    "    num=0\n",
    "    indices = ind_stim_loc2==num\n",
    "    label_plot = ind_stim_loc1[indices]\n",
    "    proj_plot = proj[indices,:]\n",
    "    plot_single_distractor_or_target(palette = palette1, xlim = xlim, ylim = ylim, zlim = zlim, label_plot=label_plot, proj_plot = proj_plot, filename = 'single_distractor_'+filename)"
   ]
  },
  {
   "cell_type": "code",
   "execution_count": null,
   "id": "21219253",
   "metadata": {},
   "outputs": [],
   "source": [
    "def get_delay_bins(delay):\n",
    "    dt=20\n",
    "    stim1_ons = int(500/dt)\n",
    "    stim1_offs = stim1_ons + int(300/dt)\n",
    "    stim2_ons =stim1_offs + int(1000/dt)\n",
    "    stim2_offs = stim2_ons + int(300/dt)\n",
    "    fix_offs  = stim2_offs + int(1000/dt)\n",
    "\n",
    "    baseline = (0,stim1_ons)\n",
    "\n",
    "    if delay == 1:\n",
    "            delay_bins = (stim2_ons - int(500/dt),stim2_ons)\n",
    "\n",
    "    elif delay == 2:\n",
    "            delay_bins = (fix_offs - int(500/dt),fix_offs)\n",
    "\n",
    "    return delay_bins"
   ]
  },
  {
   "cell_type": "code",
   "execution_count": null,
   "id": "51389a67",
   "metadata": {},
   "outputs": [],
   "source": [
    "X_n = []\n",
    "for i in range(stim_loc_size):\n",
    "    for seed in range(10):\n",
    "        x1 = add_x_loc(stim1_locs[i])\n",
    "        x2 = add_x_loc(stim2_locs[i])\n",
    "        x1 = add_x_noise(x1, seed=seed)\n",
    "        x2 = add_x_noise(x2, seed=seed)\n",
    "        X_n.append(np.append(x1,x2))\n",
    "X_n = np.array(X_n)"
   ]
  },
  {
   "cell_type": "code",
   "execution_count": null,
   "id": "2c17df69",
   "metadata": {},
   "outputs": [],
   "source": [
    "X = []\n",
    "for i in range(stim_loc_size):\n",
    "    x1 = add_x_loc(stim1_locs[i])\n",
    "    x2 = add_x_loc(stim2_locs[i])\n",
    "    X.append(np.append(x1,x2))\n",
    "X = np.array(X)"
   ]
  },
  {
   "cell_type": "markdown",
   "id": "0334341e",
   "metadata": {},
   "source": [
    "### ANOVA test for simple NN models (no non-linear activation)"
   ]
  },
  {
   "cell_type": "code",
   "execution_count": null,
   "id": "053996eb",
   "metadata": {},
   "outputs": [],
   "source": [
    "Z = forward_prop(X_n)\n",
    "neuron = 0\n",
    "df = pd.DataFrame({'first_stim':np.array([[i]*10 for i in ind_stim_loc1]).flatten(),'second_stim':np.array([[i]*10 for i in ind_stim_loc2]).flatten(),'activity':Z[:,neuron]})\n",
    "df"
   ]
  },
  {
   "cell_type": "code",
   "execution_count": null,
   "id": "7d09b32f",
   "metadata": {},
   "outputs": [],
   "source": [
    "aov = pg.anova(dv='activity', between=['first_stim', 'second_stim'], data=df,\n",
    "             detailed=True)\n",
    "\n",
    "print(aov)"
   ]
  },
  {
   "cell_type": "markdown",
   "id": "f9bfe805",
   "metadata": {},
   "source": [
    "### ANOVA test for simple NN models (softmax activation)"
   ]
  },
  {
   "cell_type": "code",
   "execution_count": null,
   "id": "57bca481",
   "metadata": {},
   "outputs": [],
   "source": [
    "Z = forward_prop(X_n, activation='softplus')\n",
    "neuron = 0\n",
    "df = pd.DataFrame({'first_stim':np.array([[i]*10 for i in ind_stim_loc1]).flatten(),'second_stim':np.array([[i]*10 for i in ind_stim_loc2]).flatten(),'activity':Z[:,neuron]})\n",
    "df"
   ]
  },
  {
   "cell_type": "code",
   "execution_count": null,
   "id": "9cf26419",
   "metadata": {},
   "outputs": [],
   "source": [
    "aov = pg.anova(dv='activity', between=['first_stim', 'second_stim'], data=df,\n",
    "             detailed=True)\n",
    "\n",
    "print(aov)"
   ]
  },
  {
   "cell_type": "markdown",
   "id": "98d670c3",
   "metadata": {},
   "source": [
    "### ANOVA test for simple NN Model with additional layer(s)"
   ]
  },
  {
   "cell_type": "code",
   "execution_count": null,
   "id": "1bbb878a",
   "metadata": {},
   "outputs": [],
   "source": [
    "Z = forward_prop(X_n, activation='softplus', seed=0)\n",
    "Z = forward_prop(Z, activation='softplus', seed=1)\n",
    "neuron = 0\n",
    "df = pd.DataFrame({'first_stim':np.array([[i]*10 for i in ind_stim_loc1]).flatten(),'second_stim':np.array([[i]*10 for i in ind_stim_loc2]).flatten(),'activity':Z[:,neuron]})\n",
    "df"
   ]
  },
  {
   "cell_type": "code",
   "execution_count": null,
   "id": "313e50ee",
   "metadata": {},
   "outputs": [],
   "source": [
    "aov = pg.anova(dv='activity', between=['first_stim', 'second_stim'], data=df,\n",
    "             detailed=True)\n",
    "\n",
    "print(aov)"
   ]
  },
  {
   "cell_type": "markdown",
   "id": "8237390d",
   "metadata": {},
   "source": [
    "### ANOVA test for simple RNN model"
   ]
  },
  {
   "cell_type": "code",
   "execution_count": null,
   "id": "6325c0a5",
   "metadata": {},
   "outputs": [],
   "source": [
    "Z = forward_prop(X_n[:,:32], activation='softplus', seed=0)\n",
    "Z = forward_prop(Z, seed=1) + forward_prop(X_n[:,32:], seed=0)\n",
    "Z = tf.math.softplus(Z).numpy()\n",
    "neuron = 0\n",
    "df = pd.DataFrame({'first_stim':np.array([[i]*10 for i in ind_stim_loc1]).flatten(),'second_stim':np.array([[i]*10 for i in ind_stim_loc2]).flatten(),'activity':Z[:,neuron]})\n",
    "df"
   ]
  },
  {
   "cell_type": "code",
   "execution_count": null,
   "id": "8ae17949",
   "metadata": {},
   "outputs": [],
   "source": [
    "aov = pg.anova(dv='activity', between=['first_stim', 'second_stim'], data=df,\n",
    "             detailed=True)\n",
    "\n",
    "print(aov)"
   ]
  },
  {
   "cell_type": "markdown",
   "id": "b0abcafa",
   "metadata": {},
   "source": [
    "### ANOVA test for simple NN Model with additional layer(s)"
   ]
  },
  {
   "cell_type": "code",
   "execution_count": null,
   "id": "87170454",
   "metadata": {},
   "outputs": [],
   "source": [
    "Z = forward_prop(X_n, activation='softplus', seed=0)\n",
    "Z = forward_prop(Z, activation='softplus', seed=1)\n",
    "neuron = 0\n",
    "df = pd.DataFrame({'first_stim':np.array([[i]*10 for i in ind_stim_loc1]).flatten(),'second_stim':np.array([[i]*10 for i in ind_stim_loc2]).flatten(),'activity':Z[:,neuron]})\n",
    "df"
   ]
  },
  {
   "cell_type": "code",
   "execution_count": null,
   "id": "fb88d32f",
   "metadata": {},
   "outputs": [],
   "source": [
    "aov = pg.anova(dv='activity', between=['first_stim', 'second_stim'], data=df,\n",
    "             detailed=True)\n",
    "\n",
    "print(aov)"
   ]
  },
  {
   "cell_type": "markdown",
   "id": "ad933f4b",
   "metadata": {},
   "source": [
    "### ANOVA test for simple NN Model with additional layer(s)"
   ]
  },
  {
   "cell_type": "code",
   "execution_count": null,
   "id": "5d5f0c7e",
   "metadata": {},
   "outputs": [],
   "source": [
    "Z = forward_prop(X_n, activation='softplus', seed=0)\n",
    "Z = forward_prop(Z, activation='softplus', seed=1)\n",
    "neuron = 0\n",
    "df = pd.DataFrame({'first_stim':np.array([[i]*10 for i in ind_stim_loc1]).flatten(),'second_stim':np.array([[i]*10 for i in ind_stim_loc2]).flatten(),'activity':Z[:,neuron]})\n",
    "df"
   ]
  },
  {
   "cell_type": "code",
   "execution_count": null,
   "id": "14dd8612",
   "metadata": {
    "scrolled": false
   },
   "outputs": [],
   "source": [
    "aov = pg.anova(dv='activity', between=['first_stim', 'second_stim'], data=df,\n",
    "             detailed=True)\n",
    "\n",
    "print(aov)"
   ]
  },
  {
   "cell_type": "markdown",
   "id": "31546286",
   "metadata": {},
   "source": [
    "### ANOVA test for simple RNN model"
   ]
  },
  {
   "cell_type": "code",
   "execution_count": null,
   "id": "dcb9392a",
   "metadata": {},
   "outputs": [],
   "source": [
    "Z = forward_prop(X[:,:32], activation='softplus', seed=0)\n",
    "Z = forward_prop(Z, seed=1) + forward_prop(X[:,32:], seed=0)\n",
    "Z = tf.math.softplus(Z).numpy()\n",
    "Z = forward_prop(X_n, activation='softplus')\n",
    "neuron = 0\n",
    "df = pd.DataFrame({'first_stim':np.array([[i]*10 for i in ind_stim_loc1]).flatten(),'second_stim':np.array([[i]*10 for i in ind_stim_loc2]).flatten(),'activity':Z[:,neuron]})\n",
    "df"
   ]
  },
  {
   "cell_type": "code",
   "execution_count": null,
   "id": "bc99729b",
   "metadata": {},
   "outputs": [],
   "source": [
    "aov = pg.anova(dv='activity', between=['first_stim', 'second_stim'], data=df,\n",
    "             detailed=True)\n",
    "\n",
    "print(aov)"
   ]
  },
  {
   "cell_type": "markdown",
   "id": "619c6cab",
   "metadata": {},
   "source": [
    "### ANOVA test for trained RNN model"
   ]
  },
  {
   "cell_type": "code",
   "execution_count": null,
   "id": "6210f7b7",
   "metadata": {},
   "outputs": [],
   "source": []
  },
  {
   "cell_type": "markdown",
   "id": "2cbaa1bf",
   "metadata": {},
   "source": [
    "### Input layer"
   ]
  },
  {
   "cell_type": "code",
   "execution_count": null,
   "id": "fa20a441",
   "metadata": {},
   "outputs": [],
   "source": [
    "proj = fit_isomap(data_to_use=X)\n",
    "plot_all_isomap_figures(proj)"
   ]
  },
  {
   "cell_type": "code",
   "execution_count": null,
   "id": "60c23b35",
   "metadata": {},
   "outputs": [],
   "source": [
    "plot_tuning_curves(X,'Xtuningcurve.png')"
   ]
  },
  {
   "cell_type": "markdown",
   "id": "bd765be0",
   "metadata": {},
   "source": [
    "### Simple NN model"
   ]
  },
  {
   "cell_type": "code",
   "execution_count": null,
   "id": "e409c54f",
   "metadata": {},
   "outputs": [],
   "source": [
    "Z,_ = forward_prop(X, activation='softplus', seed=0)\n",
    "plot_tuning_curves(Z,'simpleNNtuningcurve.png')"
   ]
  },
  {
   "cell_type": "code",
   "execution_count": null,
   "id": "6ccd6ca8",
   "metadata": {},
   "outputs": [],
   "source": [
    "Z,_ = forward_prop(X, activation='softplus', seed=0)\n",
    "\n",
    "plot_tuning_curves(Z,'simpleNNtuningcurve_softplus.png')"
   ]
  },
  {
   "cell_type": "code",
   "execution_count": null,
   "id": "5c87858d",
   "metadata": {},
   "outputs": [],
   "source": [
    "proj = fit_isomap(data_to_use=Z)\n",
    "plot_all_isomap_figures(proj)"
   ]
  },
  {
   "cell_type": "markdown",
   "id": "6273c59e",
   "metadata": {},
   "source": [
    "### Simple NN Model with additional layer(s)"
   ]
  },
  {
   "cell_type": "code",
   "execution_count": null,
   "id": "58cf578a",
   "metadata": {},
   "outputs": [],
   "source": [
    "Z,_ = forward_prop(X, activation='softplus', seed=0)\n",
    "Z,_ = forward_prop(Z, activation='softplus', seed=1)\n",
    "\n",
    "plot_tuning_curves(Z,'simpleNNtuningcurve_2softplus.png')"
   ]
  },
  {
   "cell_type": "code",
   "execution_count": null,
   "id": "10aaa8fd",
   "metadata": {},
   "outputs": [],
   "source": [
    "proj = fit_isomap(data_to_use=Z)\n",
    "plot_all_isomap_figures(proj)"
   ]
  },
  {
   "cell_type": "code",
   "execution_count": null,
   "id": "67d8aa31",
   "metadata": {
    "scrolled": true
   },
   "outputs": [],
   "source": [
    "for i in range(2,10):\n",
    "    Z,_ = forward_prop(Z, activation='softplus', seed=i)\n",
    "plot_tuning_curves(Z,'simpleNNtuningcurve_10softplus.png')"
   ]
  },
  {
   "cell_type": "code",
   "execution_count": null,
   "id": "27d1f390",
   "metadata": {},
   "outputs": [],
   "source": [
    "proj = fit_isomap(data_to_use=Z)\n",
    "plot_all_isomap_figures(proj)"
   ]
  },
  {
   "cell_type": "markdown",
   "id": "ba7c4339",
   "metadata": {},
   "source": [
    "### Simple RNN"
   ]
  },
  {
   "cell_type": "code",
   "execution_count": null,
   "id": "0478da7e",
   "metadata": {},
   "outputs": [],
   "source": [
    "Z,_ = forward_prop(X[:,:32], activation='softplus', seed=0)\n",
    "Z,_ = forward_prop(Z, seed=1)\n",
    "Z += forward_prop(X[:,32:], seed=0)[0]\n",
    "Z = tf.math.softplus(Z).numpy()"
   ]
  },
  {
   "cell_type": "code",
   "execution_count": null,
   "id": "2b22453f",
   "metadata": {},
   "outputs": [],
   "source": [
    "plot_tuning_curves(Z,'simpleRNNtuningcurve')"
   ]
  },
  {
   "cell_type": "code",
   "execution_count": null,
   "id": "113d7998",
   "metadata": {},
   "outputs": [],
   "source": [
    "proj = fit_isomap(data_to_use=Z)\n",
    "plot_all_isomap_figures(proj,'simple_RNN.png')"
   ]
  },
  {
   "cell_type": "code",
   "execution_count": null,
   "id": "cbda245b",
   "metadata": {},
   "outputs": [],
   "source": [
    "def plot_2d_isomap(data_plot, color, annotate=False):\n",
    "        fig = plt.figure(figsize=(16,16),dpi=200)\n",
    "        ax = fig.add_subplot(111)\n",
    "        if annotate:\n",
    "            ax.scatter(data_plot[:,0], data_plot[:,1], s=5, alpha=1, edgecolor='face',c=color)\n",
    "            label = 0\n",
    "            for xy in zip(data_plot[:,0], data_plot[:,1]):\n",
    "                x, y = xy\n",
    "                ax.text(x, y, '%s' % (label), size=15, zorder=1, color='k')\n",
    "                label += 1\n",
    "        else:\n",
    "            ax.scatter(data_plot[:,0], data_plot[:,1], s=20, alpha=1, edgecolor='face',c=color)\n",
    "\n",
    "        ax.grid(False)\n",
    "        return fig, ax\n",
    "    \n",
    "num=0\n",
    "target_dim = 2\n",
    "indices = ind_stim_loc1==num\n",
    "label_plot = ind_stim_loc2[indices]\n",
    "data_to_use = Z[indices,:]\n",
    "\n",
    "palette2 = cm.get_cmap('summer',n_loc+15)\n",
    "palette2 = [palette2(i)[:3] for i in range(n_loc)]\n",
    "color2=np.array(palette2)[label_plot]\n",
    "\n",
    "iso_instance = manifold.Isomap(n_neighbors = n_neighbors, n_components = target_dim)\n",
    "proj = iso_instance.fit_transform(data_to_use)\n",
    "\n",
    "fig,ax = plot_2d_isomap(data_plot=proj, color=color2)\n",
    "fig.tight_layout()\n",
    "fig.savefig('simple_RNN_single_target_isomap_2d.png')\n",
    "plt.show()\n",
    "plt.close()\n",
    "\n",
    "\n",
    "\n",
    "indices = ind_stim_loc2==num\n",
    "label_plot = ind_stim_loc1[indices]\n",
    "data_to_use = Z[indices,:]\n",
    "\n",
    "palette2 = cm.get_cmap('summer',n_loc+15)\n",
    "palette2 = [palette2(i)[:3] for i in range(n_loc)]\n",
    "color1=np.array(palette1)[label_plot]\n",
    "\n",
    "iso_instance = manifold.Isomap(n_neighbors = n_neighbors, n_components = target_dim)\n",
    "proj = iso_instance.fit_transform(data_to_use)\n",
    "\n",
    "fig,ax = plot_2d_isomap(data_plot=proj, color=color1)\n",
    "fig.tight_layout()\n",
    "fig.savefig('simple_RNN_single_distractor_isomap_2d.png')\n",
    "plt.show()\n",
    "plt.close()\n"
   ]
  },
  {
   "cell_type": "code",
   "execution_count": null,
   "id": "26908b2c",
   "metadata": {},
   "outputs": [],
   "source": [
    "Z,_ = forward_prop(X[:,:32], activation='softplus', seed=0)\n",
    "Z,param = forward_prop(Z, seed=1)\n",
    "Z += forward_prop(X[:,32:], seed=0)[0]\n",
    "Z = tf.math.softplus(Z).numpy()"
   ]
  },
  {
   "cell_type": "code",
   "execution_count": null,
   "id": "26af156c",
   "metadata": {},
   "outputs": [],
   "source": []
  },
  {
   "cell_type": "code",
   "execution_count": null,
   "id": "e9093b75",
   "metadata": {},
   "outputs": [],
   "source": [
    "import seaborn as sns\n",
    "\n",
    "def plot_weight_selectivity_matrix(target,Z,n_loc):\n",
    "    mean_delay_FR = np.array([[np.mean(Z[target==i,j]) for i in range(n_loc)] for j in range(Z.shape[1])])\n",
    "    df = pd.DataFrame(mean_delay_FR)\n",
    "    label = np.argmax(mean_delay_FR,1)\n",
    "    selectivity_label = np.array(label) \n",
    "    ind = np.argsort(selectivity_label)\n",
    "    sorted_weight_matrix = param[:,ind]\n",
    "    sorted_weight_matrix = sorted_weight_matrix[ind,:]\n",
    "    \n",
    "    #initialize matrix\n",
    "    block_dist = np.zeros([n_loc,n_loc])\n",
    "\n",
    "    for i in range(n_loc):\n",
    "        for j in range(n_loc):\n",
    "            from_neurons = np.where(label == i)[0]\n",
    "            to_neurons = np.where(label == j)[0]\n",
    "            block_dist[i,j] = np.nanmean(sorted_weight_matrix[from_neurons,:][:,to_neurons])\n",
    "\n",
    "    highest = np.nanmax(np.abs(block_dist))\n",
    "    fig = plt.figure()\n",
    "    sns.heatmap(block_dist,cmap='bwr',vmin=-highest, vmax=highest)\n",
    "\n",
    "    plt.show()"
   ]
  },
  {
   "cell_type": "code",
   "execution_count": null,
   "id": "f214d256",
   "metadata": {},
   "outputs": [],
   "source": [
    "plot_weight_selectivity_matrix(ind_stim_loc1,Z,n_loc=128)"
   ]
  },
  {
   "cell_type": "code",
   "execution_count": null,
   "id": "6a4fc46b",
   "metadata": {},
   "outputs": [],
   "source": [
    "plot_weight_selectivity_matrix(ind_stim_loc2,Z,n_loc=128)"
   ]
  },
  {
   "cell_type": "markdown",
   "id": "776e3349",
   "metadata": {},
   "source": [
    "### trained RNN"
   ]
  },
  {
   "cell_type": "code",
   "execution_count": null,
   "id": "c0a84799",
   "metadata": {},
   "outputs": [],
   "source": [
    "fpath = \"/Volumes/Seagate Backup Plus Drive/fyp/run_0_unrestricted_128loc_noise_free\"\n",
    "isomap_file = \"firing_rate_128testloc.mat\"\n",
    "n_loc = 128\n",
    "delay = 2\n",
    "\n",
    "model_dir = fpath\n",
    "data = scipy.io.loadmat(model_dir + '/%s'%isomap_file) #data = dict(firing_rate [time bins,120*106 trials,256 neurons], [120*106 target locations], [120*106 distractor locations])\n",
    "\n",
    "h = data['firing_rate']\n",
    "\n",
    "\n",
    "target_label = data['target'][0][:]\n",
    "distractor_label = data['distractor'][0][:]\n",
    "\n",
    "palette1 = cm.get_cmap('autumn',n_loc+15)\n",
    "palette1 = [palette1(i)[:3] for i in range(n_loc)]\n",
    "palette2 = cm.get_cmap('summer',n_loc+15)\n",
    "palette2 = [palette2(i)[:3] for i in range(n_loc)]\n",
    "\n",
    "#get delay 1 or delay 2 time bins\n",
    "delay_bins = get_delay_bins(delay=delay)\n",
    "#extract mean firing rates for delay bins\n",
    "df = pd.DataFrame(np.mean(h[delay_bins[0]:delay_bins[1], :, :], axis=0))\n",
    "df = np.array(df)"
   ]
  },
  {
   "cell_type": "code",
   "execution_count": null,
   "id": "60b31a8d",
   "metadata": {},
   "outputs": [],
   "source": [
    "plot_weight_selectivity_matrix(distractor_label,df,n_loc=8)"
   ]
  },
  {
   "cell_type": "code",
   "execution_count": null,
   "id": "3814f350",
   "metadata": {},
   "outputs": [],
   "source": [
    "plot_weight_selectivity_matrix(target_label,df,n_loc=8)"
   ]
  },
  {
   "cell_type": "code",
   "execution_count": null,
   "id": "87d0f7c6",
   "metadata": {},
   "outputs": [],
   "source": [
    "fpath = \"/Volumes/Seagate Backup Plus Drive/fyp/run_0_unrestricted_128loc_noise_free\"\n",
    "isomap_file = \"firing_rate_isomap_128testloc.mat\"\n",
    "n_loc = 128\n",
    "delay = 2\n",
    "\n",
    "model_dir = fpath\n",
    "data = scipy.io.loadmat(model_dir + '/%s'%isomap_file) #data = dict(firing_rate [time bins,120*106 trials,256 neurons], [120*106 target locations], [120*106 distractor locations])\n",
    "\n",
    "h = data['firing_rate']\n",
    "\n",
    "\n",
    "target_label = data['target'][0][:]\n",
    "distractor_label = data['distractor'][0][:]\n",
    "\n",
    "palette1 = cm.get_cmap('autumn',n_loc+15)\n",
    "palette1 = [palette1(i)[:3] for i in range(n_loc)]\n",
    "palette2 = cm.get_cmap('summer',n_loc+15)\n",
    "palette2 = [palette2(i)[:3] for i in range(n_loc)]\n",
    "\n",
    "#get delay 1 or delay 2 time bins\n",
    "delay_bins = get_delay_bins(delay=delay)\n",
    "#extract mean firing rates for delay bins\n",
    "df = pd.DataFrame(np.mean(h[delay_bins[0]:delay_bins[1], :, :], axis=0))\n",
    "df = np.array(df)"
   ]
  },
  {
   "cell_type": "code",
   "execution_count": null,
   "id": "bd516e30",
   "metadata": {},
   "outputs": [],
   "source": [
    "plot_weight_selectivity_matrix(ind_stim_loc1,df)\n",
    "plot_weight_selectivity_matrix(ind_stim_loc2,df)"
   ]
  },
  {
   "cell_type": "code",
   "execution_count": null,
   "id": "1c6d3874",
   "metadata": {},
   "outputs": [],
   "source": [
    "df.shape"
   ]
  },
  {
   "cell_type": "code",
   "execution_count": null,
   "id": "75571d40",
   "metadata": {},
   "outputs": [],
   "source": [
    "#get delay 1 or delay 2 time bins\n",
    "delay_bins = get_delay_bins(delay=1)\n",
    "#extract mean firing rates for delay bins\n",
    "df1 = pd.DataFrame(h[delay_bins[1], :, :])\n",
    "df1 = np.array(df1)"
   ]
  },
  {
   "cell_type": "code",
   "execution_count": null,
   "id": "b3e519f1",
   "metadata": {},
   "outputs": [],
   "source": [
    "plot_tuning_curves(df1,'trainedRNNtuningcurve_delay1')"
   ]
  },
  {
   "cell_type": "code",
   "execution_count": null,
   "id": "242c9024",
   "metadata": {},
   "outputs": [],
   "source": [
    "#get delay 1 or delay 2 time bins\n",
    "delay_bins = get_delay_bins(delay=2)\n",
    "#extract mean firing rates for delay bins\n",
    "df2 = pd.DataFrame(h[delay_bins[1], :, :])\n",
    "df2 = np.array(df2)"
   ]
  },
  {
   "cell_type": "code",
   "execution_count": null,
   "id": "06545c28",
   "metadata": {},
   "outputs": [],
   "source": [
    "plot_tuning_curves(df2,'trainedRNNtuningcurve_delay2')"
   ]
  },
  {
   "cell_type": "code",
   "execution_count": null,
   "id": "1fc6f9c7",
   "metadata": {},
   "outputs": [],
   "source": [
    "df.shape"
   ]
  },
  {
   "cell_type": "code",
   "execution_count": null,
   "id": "c24d81d1",
   "metadata": {},
   "outputs": [],
   "source": [
    "aov = pg.anova(dv='activity', between=['first_stim', 'second_stim'], data=df,\n",
    "             detailed=True)\n",
    "\n",
    "print(aov)"
   ]
  },
  {
   "cell_type": "code",
   "execution_count": null,
   "id": "000c4ff5",
   "metadata": {},
   "outputs": [],
   "source": [
    "df_anova = pd.DataFrame({'first_stim':ind_stim_loc1,'second_stim':ind_stim_loc2,'activity':df[:,0]})\n",
    "df_anova['first_stim']=(df_anova['first_stim']/2).astype('int').astype('object')\n",
    "df_anova['second_stim']=(df_anova['second_stim']/2).astype('int').astype('object')"
   ]
  },
  {
   "cell_type": "code",
   "execution_count": null,
   "id": "9de11dc8",
   "metadata": {},
   "outputs": [],
   "source": [
    "df_anova\n",
    "#generate extra points in hpc"
   ]
  },
  {
   "cell_type": "code",
   "execution_count": null,
   "id": "e5b08797",
   "metadata": {},
   "outputs": [],
   "source": [
    "aov = pg.anova(dv='activity', between=['first_stim', 'second_stim'], data=df_anova,\n",
    "             detailed=True)\n",
    "\n",
    "print(aov)"
   ]
  },
  {
   "cell_type": "code",
   "execution_count": null,
   "id": "8ba1e19c",
   "metadata": {},
   "outputs": [],
   "source": [
    "proj = fit_isomap(data_to_use=df)\n",
    "plot_all_isomap_figures(proj)"
   ]
  },
  {
   "cell_type": "code",
   "execution_count": null,
   "id": "dd4d619b",
   "metadata": {},
   "outputs": [],
   "source": [
    "noise = np.zeros(df.shape)\n",
    "noise[ind_stim_loc1 > 120] += np.random.randn(noise[ind_stim_loc1 > 120].shape[0],noise[ind_stim_loc1 > 120].shape[1]) * 0.1\n",
    "df1 = df + noise"
   ]
  },
  {
   "cell_type": "code",
   "execution_count": null,
   "id": "7e50513f",
   "metadata": {},
   "outputs": [],
   "source": [
    "proj = fit_isomap(data_to_use=df1)\n",
    "plot_all_isomap_figures(proj,'trainedRNN_noise0p1')"
   ]
  },
  {
   "cell_type": "code",
   "execution_count": null,
   "id": "e492949a",
   "metadata": {},
   "outputs": [],
   "source": [
    "plot_all_isomap_figures(proj,'trainedRNN_noise0p1')"
   ]
  },
  {
   "cell_type": "code",
   "execution_count": null,
   "id": "a7b3389d",
   "metadata": {},
   "outputs": [],
   "source": [
    "noise = np.zeros(df.shape)\n",
    "noise[ind_stim_loc1 > 120] += np.random.randn(noise[ind_stim_loc1 > 120].shape[0],noise[ind_stim_loc1 > 120].shape[1]) * 1\n",
    "df2 = df + noise"
   ]
  },
  {
   "cell_type": "code",
   "execution_count": null,
   "id": "4c02e7e4",
   "metadata": {},
   "outputs": [],
   "source": [
    "proj = fit_isomap(data_to_use=df2)\n",
    "plot_all_isomap_figures(proj,'trainedRNN_noise1')"
   ]
  },
  {
   "cell_type": "code",
   "execution_count": null,
   "id": "229caa5e",
   "metadata": {},
   "outputs": [],
   "source": [
    "df = pd.DataFrame({'first_stim':np.array([[i]*10 for i in ind_stim_loc1]).flatten(),'second_stim':np.array([[i]*10 for i in ind_stim_loc2]).flatten(),'activity':Z[:,neuron]})\n",
    "\n",
    "aov = pg.anova(dv='activity', between=['first_stim', 'second_stim'], data=df,\n",
    "             detailed=True)\n",
    "\n",
    "print(aov)"
   ]
  }
 ],
 "metadata": {
  "kernelspec": {
   "display_name": "Python 3 (ipykernel)",
   "language": "python",
   "name": "python3"
  },
  "language_info": {
   "codemirror_mode": {
    "name": "ipython",
    "version": 3
   },
   "file_extension": ".py",
   "mimetype": "text/x-python",
   "name": "python",
   "nbconvert_exporter": "python",
   "pygments_lexer": "ipython3",
   "version": "3.8.12"
  }
 },
 "nbformat": 4,
 "nbformat_minor": 5
}
