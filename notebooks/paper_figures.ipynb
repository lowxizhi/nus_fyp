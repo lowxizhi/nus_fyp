{
 "cells": [
  {
   "cell_type": "code",
   "execution_count": null,
   "id": "c47f52aa",
   "metadata": {},
   "outputs": [],
   "source": [
    "import os\n",
    "import json\n",
    "import numpy as np\n",
    "import matplotlib.pyplot as plt\n",
    "import matplotlib.image as img"
   ]
  },
  {
   "cell_type": "markdown",
   "id": "9ca224e2",
   "metadata": {},
   "source": [
    "### Input Neurons"
   ]
  },
  {
   "cell_type": "code",
   "execution_count": null,
   "id": "76c75978",
   "metadata": {},
   "outputs": [],
   "source": [
    "import math\n",
    "def get_dist(original_dist):\n",
    "    '''Get the distance in periodic boundary conditions'''\n",
    "    return np.minimum(abs(original_dist),2*np.pi-abs(original_dist))\n",
    "\n",
    "def get_x_loc(pref, x_loc, spread=np.pi/8):\n",
    "    \"\"\"Input activity given location.\"\"\"\n",
    "    dist = get_dist(x_loc-pref)  # periodic boundary\n",
    "    dist /= spread\n",
    "    return 0.8*np.exp(-dist**2/2)"
   ]
  },
  {
   "cell_type": "code",
   "execution_count": null,
   "id": "4936542e",
   "metadata": {},
   "outputs": [],
   "source": [
    "save_folder = '/Users/lowxizhi/Documents/fyp/reports/'\n",
    "\n",
    "fig, ax = plt.subplots(figsize=(10, 5))\n",
    "for spread in [np.pi/8]:\n",
    "    for i, loc in enumerate(np.arange(0, 2*np.pi, 2*np.pi/32)[:2]):\n",
    "        x = np.linspace(-np.pi, np.pi, 5000)\n",
    "        y = [get_x_loc(loc,i,spread) for i in x]\n",
    "        plt.plot(x,y,label=f'$\\u03C8_{i}$ = '+format(loc, '.3f')+' radians ('+format(math.degrees(loc), '.2f')+'\\N{DEGREE SIGN})')\n",
    "    #     plt.plot(x_deg,y)\n",
    "\n",
    "        plt.xlabel('Stimulus direction \\u03C8 (radians)',fontsize=14)\n",
    "        plt.ylabel('Activity',fontsize=14)\n",
    "        plt.title(f'Activities of 2 input neurons with different preferred directions',fontsize=16)\n",
    "        leg = plt.legend(bbox_to_anchor=(1.04,1),loc=\"upper left\", fontsize = 12)\n",
    "        leg.set_title('Preferred direction',prop={'size':14})\n",
    "    plt.savefig(save_folder + 'Activity of input neuron.png', bbox_inches='tight')\n",
    "    plt.show()\n",
    "    plt.close()"
   ]
  },
  {
   "cell_type": "code",
   "execution_count": null,
   "id": "2d03710e",
   "metadata": {},
   "outputs": [],
   "source": [
    "save_folder = '/Users/lowxizhi/Documents/fyp/reports/'\n",
    "\n",
    "fig, ax = plt.subplots(figsize=(10, 5))\n",
    "for i, loc in enumerate(np.arange(0, 2*np.pi, 2*np.pi/32)[:2]):\n",
    "    x = np.arange(-np.pi, np.pi, 2*np.pi/32)\n",
    "    x_tick_labels = [f'$\\u03C8_{i}$' for i in range(32)]\n",
    "    x_tick_labels = [x_tick_label[:3]+'{'+x_tick_label[3:] for x_tick_label in x_tick_labels]\n",
    "    x_tick_labels = [x_tick_label[:-1]+'}'+x_tick_label[-1] for x_tick_label in x_tick_labels]\n",
    "    x_tick_labels = x_tick_labels[16:]+x_tick_labels[:16]\n",
    "    x_tick_labels = [x_tick_labels[i]+ ' = ' + format(x[i], '.3f') for i in range(32)]\n",
    "\n",
    "    y = [get_x_loc(i,loc) for i in x]\n",
    "    plt.scatter(x,y,label=f'\\u03C8 = '+format(loc, '.3f')+' radians ('+format(math.degrees(loc), '.2f')+'\\N{DEGREE SIGN})',alpha=0.6)\n",
    "\n",
    "    plt.xlabel('Preferred direction $\\u03C8_i$ (radians) of 32 neurons',fontsize=14)\n",
    "\n",
    "    plt.xticks(x, x_tick_labels, rotation=90, fontsize=12)\n",
    "\n",
    "    plt.ylabel('Activity',fontsize=14)\n",
    "    # plt.title('Activity of 32 neurons for stimulus direction 180 deg')\n",
    "    plt.title('Activities of 32 input neurons in response to different stimulus directions', fontsize=16)\n",
    "    leg = plt.legend(bbox_to_anchor=(1.04,1), loc=\"upper left\", fontsize = 12)\n",
    "    leg.set_title('Stimulus direction',prop={'size':14})\n",
    "#     plt.legend(bbox_to_anchor=(1.04,1), loc=\"upper left\",fontsize=14)\n",
    "    \n",
    "plt.savefig(save_folder + 'Activity of 32 neurons.png', bbox_inches='tight')\n",
    "plt.show()\n",
    "plt.close()"
   ]
  },
  {
   "cell_type": "code",
   "execution_count": null,
   "id": "a28eb2ba",
   "metadata": {},
   "outputs": [],
   "source": [
    "for spread in [np.pi/16, np.pi/8,np.pi/4,np.pi/2]:\n",
    "    for loc in np.arange(0, 2*np.pi, 2*np.pi/32)[:2]:\n",
    "        x = np.linspace(-np.pi, np.pi, 5000)\n",
    "        x_deg = x*360/(2*np.pi)\n",
    "        y = [get_x_loc(loc,i,spread) for i in x]\n",
    "        plt.plot(x_deg,y,label='preferred direction:'+str(round(loc*360/(2*np.pi),3))+' deg')\n",
    "    #     plt.plot(x_deg,y)\n",
    "\n",
    "        plt.xlabel('Stimulus direction (deg)')\n",
    "        plt.ylabel('Activity')\n",
    "        plt.title(f'Activity of single neuron (Spread = {round(spread*360/(2*np.pi),3)} deg)')\n",
    "        plt.legend(bbox_to_anchor=(1.04,1), loc=\"upper left\")\n",
    "    plt.show()\n",
    "    plt.close()"
   ]
  },
  {
   "cell_type": "code",
   "execution_count": null,
   "id": "a6464dc2",
   "metadata": {},
   "outputs": [],
   "source": [
    "for loc in [1/2 * np.pi]:\n",
    "    x = np.arange(0, 2*np.pi, 2*np.pi/32)\n",
    "    x_deg = x*360/(2*np.pi)\n",
    "    y = [get_x_loc(i,loc) for i in x]\n",
    "    plt.scatter(x_deg,y,label='stimulus direction:'+str(round(loc*360/(2*np.pi),3))+' deg',color='red')\n",
    "\n",
    "    plt.xlabel('Preferred direction of neuron (deg)')\n",
    "    plt.ylabel('Activity')\n",
    "    # plt.title('Activity of 32 neurons for stimulus direction 180 deg')\n",
    "    plt.title('Activity of 32 neurons')\n",
    "    plt.legend(bbox_to_anchor=(1.04,1), loc=\"upper left\")"
   ]
  },
  {
   "cell_type": "markdown",
   "id": "4bec04be",
   "metadata": {},
   "source": [
    "### consolidate all isomaps into a isomap summary folder"
   ]
  },
  {
   "cell_type": "code",
   "execution_count": null,
   "id": "de5166b6",
   "metadata": {},
   "outputs": [],
   "source": [
    "n_rnn = 64\n",
    "bs = 64\n",
    "isomap_summary_folder = f'/Volumes/Seagate Backup Plus Drive/fyp/results/2_stim_batch_size_{bs}/n_hidden_{n_rnn}/isomaps/'\n",
    "for acc in [60,80,95]:\n",
    "    isomap_dest_folder = isomap_summary_folder+f'acc_{acc}/'\n",
    "    if not os.path.exists(isomap_dest_folder):\n",
    "        os.makedirs(isomap_dest_folder)\n",
    "    for seed in range(1,21):\n",
    "        model_folder = f'/Volumes/Seagate Backup Plus Drive/fyp/results/2_stim_batch_size_{bs}/n_hidden_{n_rnn}/2_stim_batch_size_{bs}_n_hidden_{n_rnn}_acc_{acc}_seed_{seed}_with_noise/'\n",
    "        isomap_folder = model_folder+'isomap/'\n",
    "        if os.path.exists(isomap_folder):\n",
    "            for file in os.listdir(isomap_folder):\n",
    "                isomap_dest_file = isomap_dest_folder+file.split('.')[0]+f'_{seed}.'+file.split('.')[1]\n",
    "                shutil.copyfile(isomap_folder+file, isomap_dest_file)"
   ]
  },
  {
   "cell_type": "markdown",
   "id": "eb420caa",
   "metadata": {},
   "source": [
    "### plot isomaps in performance progression\n",
    "- seed 2 and 11 have non torus in lower performance and torus in higher performance"
   ]
  },
  {
   "cell_type": "code",
   "execution_count": null,
   "id": "25fa71e8",
   "metadata": {},
   "outputs": [],
   "source": [
    "n_rnn = 128\n",
    "bs = 512\n",
    "isomap_summary_folder = f'/Volumes/Seagate Backup Plus Drive/fyp/results/2_stim_batch_size_{bs}/n_hidden_{n_rnn}/isomaps/'\n",
    "for delay in (2,3):\n",
    "    for file in [f'trained_delay{delay}_hidden_single_distractor.png',f'trained_delay{delay}_hidden_single_target.png',f'trained_delay{delay}_hidden_target_isomap.png',f'trained_delay{delay}_hidden_distractor_isomap.png']:\n",
    "        for start in [1,6,11,16]:\n",
    "            fig,ax = plt.subplots(5,3, figsize=(15,25),dpi=300)\n",
    "            for i, seed in enumerate(range(start,start+5)):\n",
    "                for j, acc in enumerate([60,80,95]):\n",
    "                    isomap_dest_folder = isomap_summary_folder+f'acc_{acc}/'\n",
    "                    isomap_dest_file = isomap_dest_folder+file.split('.')[0]+f'_{seed}.'+file.split('.')[1]\n",
    "                    # reading png image\n",
    "                    im = img.imread(isomap_dest_file)\n",
    "                    ax[i,j].imshow(im)\n",
    "                    ax[i,j].axis('off')\n",
    "            #         if i == 0:\n",
    "            #             ax[i,j].set_title(f'Accuracy ~ {acc}%',fontsize=20)\n",
    "            fig.savefig(isomap_summary_folder+f'summary_{start}to{start+5}_{file}')"
   ]
  },
  {
   "cell_type": "markdown",
   "id": "9e2b1da7",
   "metadata": {},
   "source": [
    "### plot all isomaps in performance progression for run 2 and 11"
   ]
  },
  {
   "cell_type": "code",
   "execution_count": null,
   "id": "a1c94908",
   "metadata": {},
   "outputs": [],
   "source": [
    "import matplotlib.pyplot as plt\n",
    "import matplotlib.image as img\n",
    "\n",
    "for seed in range(20,21):\n",
    "    isomap_summary_folder = '/Volumes/Seagate Backup Plus Drive/fyp/results/2_stim_batch_size_512/n_hidden_256/isomaps/'\n",
    "    fig,ax = plt.subplots(3,4, figsize=(20,15),dpi=300)\n",
    "    for j, file in enumerate(['trained_delay2_hidden_single_distractor.png','trained_delay2_hidden_single_target.png','trained_delay2_hidden_target_isomap.png','trained_delay2_hidden_distractor_isomap.png']):\n",
    "        for i, acc in enumerate([60,80,95]):\n",
    "            isomap_dest_folder = isomap_summary_folder+f'acc_{acc}/'\n",
    "            isomap_dest_file = isomap_dest_folder+file.split('.')[0]+f'_{seed}.'+file.split('.')[1]\n",
    "            # reading png image\n",
    "            im = img.imread(isomap_dest_file)\n",
    "            ax[i,j].imshow(im)\n",
    "            ax[i,j].axis('off')\n",
    "    #         if i == 0:\n",
    "    #             ax[i,j].set_title(f'Accuracy ~ {acc}%',fontsize=20)\n",
    "    fig.savefig(isomap_summary_folder+f'summary_{seed}_isomaps.png')"
   ]
  },
  {
   "cell_type": "markdown",
   "id": "1de68b14",
   "metadata": {},
   "source": [
    "### Learning Curve for runs 2 and 11\n",
    "- steep drop then continuous rise in accuracy for run 11 when it finds torus"
   ]
  },
  {
   "cell_type": "code",
   "execution_count": null,
   "id": "1736ab06",
   "metadata": {},
   "outputs": [],
   "source": [
    "for seed in [11]:\n",
    "    yvalues = []\n",
    "    for j, acc in enumerate([60,80,95]):\n",
    "        model_folder = f'/Volumes/Seagate Backup Plus Drive/fyp/results/2_stim_batch_size_512/n_hidden_256/2_stim_batch_size_512_n_hidden_256_acc_{acc}_seed_{seed}_with_noise/'\n",
    "        df = pd.read_csv(model_folder+'log.csv')\n",
    "        print(len(df))"
   ]
  },
  {
   "cell_type": "code",
   "execution_count": null,
   "id": "de4a8380",
   "metadata": {},
   "outputs": [],
   "source": [
    "import pandas as pd\n",
    "import numpy as np\n",
    "\n",
    "learning_curve_summary_folder = '/Volumes/Seagate Backup Plus Drive/fyp/results/2_stim_batch_size_512/n_hidden_256/learning_curves/'\n",
    "\n",
    "for seed in range(1,21):\n",
    "    yvalues = []\n",
    "    for j, acc in enumerate([60,80,95]):\n",
    "        model_folder = f'/Volumes/Seagate Backup Plus Drive/fyp/results/2_stim_batch_size_512/n_hidden_256/2_stim_batch_size_512_n_hidden_256_acc_{acc}_seed_{seed}_with_noise/'\n",
    "        df = pd.read_csv(model_folder+'log.csv')\n",
    "        yvalues.append(df.custom_response_accuracy)\n",
    "    yvalues = list(pd.concat(yvalues))\n",
    "    xvalues = np.arange(len(yvalues))\n",
    "    yvalues = [yvalues[i] for i in range(len(yvalues)) if xvalues[i]%500==0]\n",
    "    xvalues = [xvalues[i] for i in range(len(xvalues)) if xvalues[i]%500==0]\n",
    "    \n",
    "    fig,ax = plt.subplots(1,1, figsize=(10,7))\n",
    "    ax.plot(xvalues,yvalues)\n",
    "    plt.xticks(fontsize= 10)\n",
    "    plt.yticks(fontsize= 10)\n",
    "    ax.set_xlabel('Epochs', fontsize='15')\n",
    "    ax.set_ylabel('Validation Accuracy', fontsize='15')\n",
    "    \n",
    "    if not os.path.exists(learning_curve_summary_folder):\n",
    "        os.makedirs(learning_curve_summary_folder)\n",
    "    fig.savefig(learning_curve_summary_folder+f'learning_curve_{seed}.png')"
   ]
  },
  {
   "cell_type": "markdown",
   "id": "79851798",
   "metadata": {},
   "source": [
    "### Model performances for different n_rnn. Pick 10 runs with >80% to compare"
   ]
  },
  {
   "cell_type": "code",
   "execution_count": null,
   "id": "4882efef",
   "metadata": {},
   "outputs": [],
   "source": [
    "n_rnn=256\n",
    "for acc in [95,80,60]:\n",
    "    print('acc: ', acc)\n",
    "    for seed in range(1,21):\n",
    "        model_folder = '/Volumes/Seagate Backup Plus Drive/fyp/results/2_stim_batch_size_512/n_hidden_%s/2_stim_batch_size_512_n_hidden_%s_acc_%s_seed_%s_with_noise'%(n_rnn,n_rnn,acc,seed)\n",
    "        if os.path.exists(model_folder+f'/performance.json'):\n",
    "            with open(model_folder+f'/performance.json', 'r') as f:\n",
    "                performance_dict = json.load(f)\n",
    "                a = float(performance_dict['trained accuracy on 16384 trials'])*100\n",
    "                print(f'{round(a,1)}%')"
   ]
  },
  {
   "cell_type": "code",
   "execution_count": null,
   "id": "ae94b342",
   "metadata": {},
   "outputs": [],
   "source": [
    "n_rnn=128\n",
    "for acc in [95,80,60]:\n",
    "    print('acc: ', acc)\n",
    "    for seed in range(1,21):\n",
    "        model_folder = '/Volumes/Seagate Backup Plus Drive/fyp/results/2_stim_batch_size_512/n_hidden_%s/2_stim_batch_size_512_n_hidden_%s_acc_%s_seed_%s_with_noise'%(n_rnn,n_rnn,acc,seed)\n",
    "        if os.path.exists(model_folder+f'/performance.json'):\n",
    "            with open(model_folder+f'/performance.json', 'r') as f:\n",
    "                performance_dict = json.load(f)\n",
    "                a = float(performance_dict['trained accuracy on 16384 trials'])*100\n",
    "                print(f'{round(a,1)}%')"
   ]
  },
  {
   "cell_type": "code",
   "execution_count": null,
   "id": "263f4df5",
   "metadata": {},
   "outputs": [],
   "source": [
    "n_rnn=128\n",
    "for acc in [95,80,60]:\n",
    "    print('acc: ', acc)\n",
    "    for seed in range(1,21):\n",
    "        model_folder = '/Users/lowxizhi/Documents/fyp/codes/results/2_stim_batch_size_512/n_hidden_%s/2_stim_batch_size_512_n_hidden_%s_acc_%s_seed_%s_with_noise'%(n_rnn,n_rnn,acc,seed)\n",
    "        with open(model_folder+f'/performance.json', 'r') as f:\n",
    "            performance_dict = json.load(f)\n",
    "            print(seed, performance_dict['trained accuracy on 16384 trials'])"
   ]
  },
  {
   "cell_type": "code",
   "execution_count": null,
   "id": "c0da7cd8",
   "metadata": {},
   "outputs": [],
   "source": [
    "n_rnn=64\n",
    "for acc in [95,80,60]:\n",
    "    print('acc: ', acc)\n",
    "    for seed in range(1,21):\n",
    "        model_folder = '/Users/lowxizhi/Documents/fyp/codes/results/2_stim_batch_size_64/n_hidden_%s/2_stim_batch_size_64_n_hidden_%s_acc_%s_seed_%s_with_noise'%(n_rnn,n_rnn,acc,seed)\n",
    "        if os.path.exists(model_folder+f'/performance.json'):\n",
    "            with open(model_folder+f'/performance.json', 'r') as f:\n",
    "                performance_dict = json.load(f)\n",
    "                print(seed, performance_dict['trained accuracy on 16384 trials'])"
   ]
  },
  {
   "cell_type": "markdown",
   "id": "a11eb1e0",
   "metadata": {},
   "source": [
    "- 256: 1,2,3,4,5,6,7,8,9,10,11,12,13,14,15,16,17,18,19,20\n",
    "- 128: 1,2,3,4,5,6,7,8,9,10,11,12,13,14,15,16,17,18,19,20\n",
    "- 64: 2,3,5,6,7,11,13,14,16,17,18,20"
   ]
  },
  {
   "cell_type": "code",
   "execution_count": null,
   "id": "7052857c",
   "metadata": {},
   "outputs": [],
   "source": [
    "import matplotlib.pyplot as plt\n",
    "import matplotlib.image as img\n",
    "\n",
    "acc=95\n",
    "bs=512\n",
    "n_rnn=256\n",
    "\n",
    "seed = 1\n",
    "fig,ax = plt.subplots(2,4, figsize=(15,8),dpi=300)\n",
    "for i, delay in enumerate([1,2]):\n",
    "    isomap_summary_folder = f'/Volumes/Seagate Backup Plus Drive/fyp/results/2_stim_batch_size_{bs}/n_hidden_{n_rnn}/isomaps/'\n",
    "    for j, file in enumerate([f'trained_delay{delay}_hidden_single_distractor.png',f'trained_delay{delay}_hidden_single_target.png',f'trained_delay{delay}_hidden_target_isomap.png',f'trained_delay{delay}_hidden_distractor_isomap.png']):\n",
    "        isomap_dest_folder = isomap_summary_folder+f'acc_{acc}/'\n",
    "        isomap_dest_file = isomap_dest_folder+file.split('.')[0]+f'_{seed}.'+file.split('.')[1]\n",
    "        im = img.imread(isomap_dest_file)\n",
    "        ax[i,j].imshow(im)\n",
    "        ax[i,j].axis('off')\n",
    "\n",
    "    fig.savefig(isomap_summary_folder+f'summary_acc_{acc}_seed_{seed}_isomaps.png')"
   ]
  },
  {
   "cell_type": "code",
   "execution_count": null,
   "id": "9ce9ca9c",
   "metadata": {},
   "outputs": [],
   "source": [
    "import matplotlib.pyplot as plt\n",
    "import matplotlib.image as img\n",
    "\n",
    "acc=95\n",
    "bs=512\n",
    "\n",
    "for n_rnn in [128,256]:\n",
    "    for start in [1,6,11,16]:\n",
    "        run_list = [i for i in range(start,start+5)]\n",
    "        fig,ax = plt.subplots(5,4, figsize=(15,20),dpi=300)\n",
    "        for i, seed in enumerate(run_list):\n",
    "            isomap_summary_folder = f'/Volumes/Seagate Backup Plus Drive/fyp/results/2_stim_batch_size_{bs}/n_hidden_{n_rnn}/isomaps/'\n",
    "            for j, file in enumerate(['trained_delay2_hidden_single_distractor.png','trained_delay2_hidden_single_target.png','trained_delay2_hidden_target_isomap.png','trained_delay2_hidden_distractor_isomap.png']):\n",
    "                isomap_dest_folder = isomap_summary_folder+f'acc_{acc}/'\n",
    "                isomap_dest_file = isomap_dest_folder+file.split('.')[0]+f'_{seed}.'+file.split('.')[1]\n",
    "                im = img.imread(isomap_dest_file)\n",
    "                ax[i,j].imshow(im)\n",
    "                ax[i,j].axis('off')\n",
    "\n",
    "            fig.savefig(isomap_summary_folder+f'summary_acc_{acc}_seed_{str(run_list)}_isomaps.png')"
   ]
  },
  {
   "cell_type": "code",
   "execution_count": null,
   "id": "ca5123e9",
   "metadata": {},
   "outputs": [],
   "source": [
    "acc=95\n",
    "bs=64\n",
    "n_rnn=64\n",
    "run_list = [2,3,5,6,7,11]\n",
    "# run_list = [13,14,16,17,18,20]\n",
    "fig,ax = plt.subplots(6,4, figsize=(20,30),dpi=300)\n",
    "for i, seed in enumerate(run_list):\n",
    "    isomap_summary_folder = f'/Volumes/Seagate Backup Plus Drive/fyp/results/2_stim_batch_size_{bs}/n_hidden_{n_rnn}/isomaps/'\n",
    "    for j, file in enumerate(['trained_delay2_hidden_single_distractor.png','trained_delay2_hidden_single_target.png','trained_delay2_hidden_target_isomap.png','trained_delay2_hidden_distractor_isomap.png']):\n",
    "        isomap_dest_folder = isomap_summary_folder+f'acc_{acc}/'\n",
    "        isomap_dest_file = isomap_dest_folder+file.split('.')[0]+f'_{seed}.'+file.split('.')[1]\n",
    "        im = img.imread(isomap_dest_file)\n",
    "        ax[i,j].imshow(im)\n",
    "        ax[i,j].axis('off')\n",
    "\n",
    "    fig.savefig(isomap_summary_folder+f'summary_acc_{acc}_seed_{str(run_list)}_isomaps.png')"
   ]
  },
  {
   "cell_type": "code",
   "execution_count": null,
   "id": "92b07cd3",
   "metadata": {},
   "outputs": [],
   "source": [
    "acc=95\n",
    "bs=64\n",
    "n_rnn=64\n",
    "# run_list = [2,3,5,6,7,11,13]\n",
    "run_list = [13,14,16,17,18,20]\n",
    "fig,ax = plt.subplots(6,4, figsize=(20,30),dpi=300)\n",
    "for i, seed in enumerate(run_list):\n",
    "    isomap_summary_folder = f'/Volumes/Seagate Backup Plus Drive/fyp/results/2_stim_batch_size_{bs}/n_hidden_{n_rnn}/isomaps/'\n",
    "    for j, file in enumerate(['trained_delay2_hidden_single_distractor.png','trained_delay2_hidden_single_target.png','trained_delay2_hidden_target_isomap.png','trained_delay2_hidden_distractor_isomap.png']):\n",
    "        isomap_dest_folder = isomap_summary_folder+f'acc_{acc}/'\n",
    "        isomap_dest_file = isomap_dest_folder+file.split('.')[0]+f'_{seed}.'+file.split('.')[1]\n",
    "        im = img.imread(isomap_dest_file)\n",
    "        ax[i,j].imshow(im)\n",
    "        ax[i,j].axis('off')\n",
    "\n",
    "    fig.savefig(isomap_summary_folder+f'summary_acc_{acc}_seed_{str(run_list)}_isomaps.png')"
   ]
  },
  {
   "cell_type": "code",
   "execution_count": null,
   "id": "625e63f3",
   "metadata": {
    "scrolled": true
   },
   "outputs": [],
   "source": [
    "n_rnn=64\n",
    "bs = 64\n",
    "n_rnn = 256\n",
    "for acc in [95,80,60]:\n",
    "    print('acc: ', acc)\n",
    "    for seed in range(1,21):\n",
    "        model_folder = f'/Volumes/Seagate Backup Plus Drive/fyp/results/3_stim_batch_size_{bs}/n_hidden_{n_rnn}/3_stim_batch_size_{bs}_n_hidden_{n_rnn}_acc_{acc}_seed_{seed}_with_noise/'\n",
    "        if os.path.exists(model_folder+f'/performance.json'):\n",
    "            with open(model_folder+f'/performance.json', 'r') as f:\n",
    "                performance_dict = json.load(f)\n",
    "                print(seed, performance_dict['trained accuracy on 32768 trials'])"
   ]
  },
  {
   "cell_type": "code",
   "execution_count": null,
   "id": "be31e7fa",
   "metadata": {},
   "outputs": [],
   "source": [
    "import matplotlib.pyplot as plt\n",
    "import matplotlib.image as img\n",
    "\n",
    "acc=95\n",
    "n_rnn=256\n",
    "bs=64\n",
    "seed = 26\n",
    "\n",
    "    \n",
    "model_folder = f'/Users/lowxizhi/Documents/fyp/codes/results/3_stim_batch_size_{bs}/n_hidden_{n_rnn}/3_stim_batch_size_{bs}_n_hidden_{n_rnn}_acc_{acc}_seed_{seed}_with_noise'\n",
    "isomap_folder = model_folder+'/isomap32/'\n",
    "\n",
    "for delay in range(1,4):\n",
    "    fig,ax = plt.subplots(2,3, figsize=(15,8), dpi=300)\n",
    "    for j, fix in enumerate([1,2,3]):\n",
    "        a = [1,2,3]\n",
    "        a.remove(fix)\n",
    "        for i, stim in enumerate(a):\n",
    "            isomap_file = f'delay{delay}_fixed_stim{fix}_stim{stim}_torus.png'\n",
    "            im = img.imread(isomap_folder+isomap_file)\n",
    "            ax[i,j].imshow(im)\n",
    "            ax[i,j].axis('off')\n",
    "\n",
    "        fig.savefig(isomap_folder+f'summary_delay_{delay}_torus_isomaps.png')"
   ]
  },
  {
   "cell_type": "code",
   "execution_count": null,
   "id": "e89394db",
   "metadata": {},
   "outputs": [],
   "source": []
  },
  {
   "cell_type": "code",
   "execution_count": null,
   "id": "cfea7306",
   "metadata": {},
   "outputs": [],
   "source": []
  }
 ],
 "metadata": {
  "kernelspec": {
   "display_name": "Python 3 (ipykernel)",
   "language": "python",
   "name": "python3"
  },
  "language_info": {
   "codemirror_mode": {
    "name": "ipython",
    "version": 3
   },
   "file_extension": ".py",
   "mimetype": "text/x-python",
   "name": "python",
   "nbconvert_exporter": "python",
   "pygments_lexer": "ipython3",
   "version": "3.8.12"
  }
 },
 "nbformat": 4,
 "nbformat_minor": 5
}
